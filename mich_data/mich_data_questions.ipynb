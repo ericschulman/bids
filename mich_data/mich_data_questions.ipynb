{
 "cells": [
  {
   "cell_type": "code",
   "execution_count": 6,
   "metadata": {},
   "outputs": [
    {
     "data": {
      "text/plain": [
       "18028.136367678828"
      ]
     },
     "execution_count": 6,
     "metadata": {},
     "output_type": "execute_result"
    }
   ],
   "source": [
    "import pandas as pd\n",
    "\n",
    "#Question A\n",
    "mich_bids = pd.read_csv('mich_bids.csv')\n",
    "\n",
    "mich_bids['bid_amount'] = mich_bids['Bid Per Unit'] * mich_bids['Estimated Volume']\n",
    "\n",
    "mich_bids= mich_bids[mich_bids['Bid/Non-Bid Species'] == 'Bid']\n",
    "\n",
    "mean = mich_bids['bid_amount'].mean()\n",
    "\n",
    "mean\n",
    "\n",
    "\n",
    "\n"
   ]
  },
  {
   "cell_type": "code",
   "execution_count": 16,
   "metadata": {},
   "outputs": [
    {
     "data": {
      "text/plain": [
       "Species\n",
       "Amer. Elm            7.266667\n",
       "Austrian Pine        8.662500\n",
       "B. Poplar           23.362281\n",
       "B. Popular          16.343263\n",
       "B. T. Aspen         51.061646\n",
       "Balsam Fir          19.441132\n",
       "Basswood            75.309488\n",
       "Beech               39.207659\n",
       "Black Ash           45.084198\n",
       "Black Cherry       188.939043\n",
       "Black Spruce        27.580093\n",
       "Black Walnut      1797.288750\n",
       "Cottonwood          22.867308\n",
       "Hemlock             17.633514\n",
       "Ironwood             5.220833\n",
       "Jack Pine           37.025486\n",
       "Misc. Sp.          122.667719\n",
       "Mix Aspen           41.671711\n",
       "Mix Hardwood        50.239059\n",
       "Mix Pine            32.936051\n",
       "Mix Softwood        22.639085\n",
       "Mixed Aspen         36.775141\n",
       "Mixed Hardwood      51.619889\n",
       "Mixed Oak           77.843587\n",
       "Mixed Pine          32.815579\n",
       "Mixed Softwood      29.178701\n",
       "N. W. Cedar         41.843671\n",
       "Norway Spruce             NaN\n",
       "Other C. Sp.        22.561846\n",
       "Paper Birch         52.750122\n",
       "Q. Aspen            30.062029\n",
       "Red Maple           71.742728\n",
       "Red Oak            187.678364\n",
       "Red Pine           111.426199\n",
       "Scotch Pine         20.613955\n",
       "Sugar Maple        469.449805\n",
       "Tamarack            18.635072\n",
       "W. Spruce           28.761392\n",
       "White Ash           66.912969\n",
       "White Oak           39.249336\n",
       "White Pine          40.489464\n",
       "Yellow Birch       229.438531\n",
       "Name: Bid Per Unit, dtype: float64"
      ]
     },
     "execution_count": 16,
     "metadata": {},
     "output_type": "execute_result"
    }
   ],
   "source": [
    "import pandas as pd\n",
    "\n",
    "#Question B\n",
    "mich_bids = pd.read_csv('mich_bids.csv')\n",
    "\n",
    "sp_mean = mich_bids.groupby('Species').mean()\n",
    "\n",
    "sp_mean['Bid Per Unit']\n"
   ]
  },
  {
   "cell_type": "code",
   "execution_count": 9,
   "metadata": {},
   "outputs": [
    {
     "data": {
      "text/plain": [
       "Species\n",
       "Amer. Elm          19.500000\n",
       "Austrian Pine      35.333333\n",
       "B. Poplar          72.719774\n",
       "B. Popular         74.978267\n",
       "B. T. Aspen       218.082498\n",
       "Balsam Fir         80.367170\n",
       "Basswood           89.861681\n",
       "Beech              55.739321\n",
       "Black Ash           7.626190\n",
       "Black Cherry       19.218780\n",
       "Black Spruce      212.994274\n",
       "Black Walnut        7.480000\n",
       "Cottonwood         44.234615\n",
       "Hemlock            50.697333\n",
       "Ironwood           21.381818\n",
       "Jack Pine         360.938727\n",
       "Misc. Sp.          51.864407\n",
       "Mix Aspen         290.361999\n",
       "Mix Hardwood      318.557828\n",
       "Mix Pine           41.846021\n",
       "Mix Softwood      164.170144\n",
       "Mixed Aspen       359.888927\n",
       "Mixed Hardwood    287.605446\n",
       "Mixed Oak         201.289406\n",
       "Mixed Pine        682.380623\n",
       "Mixed Softwood    182.977541\n",
       "N. W. Cedar       137.638474\n",
       "Norway Spruce       0.400000\n",
       "Other C. Sp.      105.485496\n",
       "Paper Birch        81.916195\n",
       "Q. Aspen          347.160507\n",
       "Red Maple          95.951897\n",
       "Red Oak           124.167821\n",
       "Red Pine          312.052822\n",
       "Scotch Pine        73.045455\n",
       "Sugar Maple        64.485094\n",
       "Tamarack          116.398892\n",
       "W. Spruce          84.867776\n",
       "White Ash          29.774005\n",
       "White Oak          81.333618\n",
       "White Pine         64.158982\n",
       "Yellow Birch        4.823604\n",
       "Name: Estimated Volume, dtype: float64"
      ]
     },
     "execution_count": 9,
     "metadata": {},
     "output_type": "execute_result"
    }
   ],
   "source": [
    "import pandas as pd\n",
    "\n",
    "#Question C\n",
    "mich_bids = pd.read_csv('mich_bids.csv')\n",
    "\n",
    "sp_mean = mich_bids.groupby('Species').mean()\n",
    "\n",
    "sp_mean['Estimated Volume']"
   ]
  },
  {
   "cell_type": "code",
   "execution_count": 15,
   "metadata": {},
   "outputs": [
    {
     "name": "stdout",
     "output_type": "stream",
     "text": [
      "bid mean : Bid/Non-Bid Species  count    12.020154\n",
      "dtype: float64\n",
      "non-bid mean : Bid/Non-Bid Species  count    16.794453\n",
      "dtype: float64\n"
     ]
    }
   ],
   "source": [
    "import pandas as pd\n",
    "\n",
    "#Question D\n",
    "mich_bids = pd.read_csv('mich_bids.csv')\n",
    "\n",
    "mich_bid= mich_bids[mich_bids['Bid/Non-Bid Species'] == 'Bid']\n",
    "\n",
    "bids_mean = mich_bid.groupby('Sale #').agg({ \n",
    "    'Bid/Non-Bid Species': ['count']})\n",
    "\n",
    "mich_non_bids= mich_bids[mich_bids['Bid/Non-Bid Species'] == 'Non-Bid']\n",
    "\n",
    "non_bids_mean = mich_non_bids.groupby('Sale #').agg({ \n",
    "    'Bid/Non-Bid Species': ['count']})\n",
    "\n",
    "\n",
    "print('bid mean :', bids_mean.mean())\n",
    "\n",
    "print('non-bid mean :', non_bids_mean.mean())\n",
    "\n"
   ]
  },
  {
   "cell_type": "code",
   "execution_count": null,
   "metadata": {},
   "outputs": [],
   "source": []
  }
 ],
 "metadata": {
  "kernelspec": {
   "display_name": "Python 3",
   "language": "python",
   "name": "python3"
  },
  "language_info": {
   "codemirror_mode": {
    "name": "ipython",
    "version": 3
   },
   "file_extension": ".py",
   "mimetype": "text/x-python",
   "name": "python",
   "nbconvert_exporter": "python",
   "pygments_lexer": "ipython3",
   "version": "3.8.5"
  }
 },
 "nbformat": 4,
 "nbformat_minor": 4
}
