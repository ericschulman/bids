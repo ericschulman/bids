{
 "cells": [
  {
   "cell_type": "code",
   "execution_count": 83,
   "metadata": {},
   "outputs": [
    {
     "name": "stdout",
     "output_type": "stream",
     "text": [
      "1\n"
     ]
    }
   ],
   "source": [
    "import pandas as pd\n",
    "import numpy as np\n",
    "\n",
    "\n",
    "mich_bids = pd.read_csv('mich_bids.csv')\n",
    "mich_sales = pd.read_csv('mich_sales.csv')\n",
    "\n",
    "mich_bids = mich_bids[mich_bids['Bid Open Location'] == 'Baldwin Office']\n",
    "\n",
    "reformated_salenum = []\n",
    "for row in mich_bids['Sale #']:\n",
    "    reformated_salenum.append(int(row.replace('-','')))\n",
    "\n",
    "mich_bids['Sale #'] = reformated_salenum\n",
    "\n",
    "mich_sales = mich_sales.rename(columns={\"Sale Number\": 'Sale #'})\n",
    "\n",
    "merged_data = mich_bids.merge( mich_sales, on='Sale #')\n",
    "\n",
    "merged_data.to_csv('mich_data_merged.csv',index=False)\n",
    "\n",
    "merged_data\n",
    "\n",
    "\n"
   ]
  },
  {
   "cell_type": "code",
   "execution_count": null,
   "metadata": {},
   "outputs": [],
   "source": []
  },
  {
   "cell_type": "code",
   "execution_count": null,
   "metadata": {},
   "outputs": [],
   "source": []
  },
  {
   "cell_type": "code",
   "execution_count": null,
   "metadata": {},
   "outputs": [],
   "source": []
  }
 ],
 "metadata": {
  "kernelspec": {
   "display_name": "Python 3",
   "language": "python",
   "name": "python3"
  },
  "language_info": {
   "codemirror_mode": {
    "name": "ipython",
    "version": 3
   },
   "file_extension": ".py",
   "mimetype": "text/x-python",
   "name": "python",
   "nbconvert_exporter": "python",
   "pygments_lexer": "ipython3",
   "version": "3.8.5"
  }
 },
 "nbformat": 4,
 "nbformat_minor": 4
}
