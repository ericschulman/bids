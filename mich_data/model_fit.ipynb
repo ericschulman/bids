{
 "cells": [
  {
   "cell_type": "code",
   "execution_count": 1,
   "metadata": {},
   "outputs": [],
   "source": [
    "%load_ext autoreload\n",
    "%autoreload 2\n",
    "\n",
    "import numpy as np\n",
    "import pandas as pd\n",
    "import datetime\n",
    "#graphing\n",
    "import matplotlib.pyplot as plt\n",
    "#stats\n",
    "import statsmodels.api as sm\n",
    "from statsmodels.base.model import GenericLikelihoodModel\n",
    "\n",
    "#import testing\n",
    "import sys\n",
    "sys.path.append(\"../\")\n",
    "import selection_tests"
   ]
  },
  {
   "cell_type": "code",
   "execution_count": 2,
   "metadata": {},
   "outputs": [],
   "source": [
    "mich_bids = pd.read_csv('panel.csv',index_col=0)"
   ]
  },
  {
   "cell_type": "code",
   "execution_count": 3,
   "metadata": {},
   "outputs": [],
   "source": [
    "# Modify the dataset by filling NaNs and dropping NO BIDS\n",
    "mich_bids['Bid Per Unit'] = mich_bids['Bid Per Unit'].fillna(0)\n",
    "mich_bids = mich_bids[mich_bids['Bidder Name'] != ' NO BIDS']"
   ]
  },
  {
   "cell_type": "code",
   "execution_count": 4,
   "metadata": {},
   "outputs": [],
   "source": [
    "# Adding year for fixed effects\n",
    "mich_bids['year_month'] = mich_bids.index.values\n",
    "mich_bids[['Year','Month']] = mich_bids['year_month'].str.split(pat=\"-\", expand=True).astype(int)"
   ]
  },
  {
   "cell_type": "code",
   "execution_count": 5,
   "metadata": {},
   "outputs": [
    {
     "name": "stdout",
     "output_type": "stream",
     "text": [
      "Optimization terminated successfully.\n",
      "         Current function value: 5.082113\n",
      "         Iterations: 433\n",
      "         Function evaluations: 711\n"
     ]
    },
    {
     "data": {
      "text/html": [
       "<table class=\"simpletable\">\n",
       "<caption>Tobit Results</caption>\n",
       "<tr>\n",
       "  <th>Dep. Variable:</th>       <td>Bid Per Unit</td>    <th>  Log-Likelihood:    </th> <td> -10118.</td> \n",
       "</tr>\n",
       "<tr>\n",
       "  <th>Model:</th>                   <td>Tobit</td>       <th>  AIC:               </th> <td>2.024e+04</td>\n",
       "</tr>\n",
       "<tr>\n",
       "  <th>Method:</th>           <td>Maximum Likelihood</td> <th>  BIC:               </th> <td>2.026e+04</td>\n",
       "</tr>\n",
       "<tr>\n",
       "  <th>Date:</th>              <td>Thu, 22 Apr 2021</td>  <th>                     </th>     <td> </td>    \n",
       "</tr>\n",
       "<tr>\n",
       "  <th>Time:</th>                  <td>19:53:19</td>      <th>                     </th>     <td> </td>    \n",
       "</tr>\n",
       "<tr>\n",
       "  <th>No. Observations:</th>       <td>  1991</td>       <th>                     </th>     <td> </td>    \n",
       "</tr>\n",
       "<tr>\n",
       "  <th>Df Residuals:</th>           <td>  1988</td>       <th>                     </th>     <td> </td>    \n",
       "</tr>\n",
       "<tr>\n",
       "  <th>Df Model:</th>               <td>     2</td>       <th>                     </th>     <td> </td>    \n",
       "</tr>\n",
       "</table>\n",
       "<table class=\"simpletable\">\n",
       "<tr>\n",
       "              <td></td>                <th>coef</th>     <th>std err</th>      <th>z</th>      <th>P>|z|</th>  <th>[0.025</th>    <th>0.975]</th>  \n",
       "</tr>\n",
       "<tr>\n",
       "  <th>Highest_HIGHEST</th>          <td>   -7.3319</td> <td>    3.276</td> <td>   -2.238</td> <td> 0.025</td> <td>  -13.753</td> <td>   -0.911</td>\n",
       "</tr>\n",
       "<tr>\n",
       "  <th>Estimated Volume</th>         <td>   -0.0010</td> <td>    0.005</td> <td>   -0.205</td> <td> 0.838</td> <td>   -0.011</td> <td>    0.009</td>\n",
       "</tr>\n",
       "<tr>\n",
       "  <th>Appraised Value Per Unit</th> <td>    0.5048</td> <td>    0.024</td> <td>   20.899</td> <td> 0.000</td> <td>    0.458</td> <td>    0.552</td>\n",
       "</tr>\n",
       "<tr>\n",
       "  <th>var</th>                      <td> 1519.8228</td> <td>   48.170</td> <td>   31.552</td> <td> 0.000</td> <td> 1425.412</td> <td> 1614.233</td>\n",
       "</tr>\n",
       "</table>"
      ],
      "text/plain": [
       "<class 'statsmodels.iolib.summary.Summary'>\n",
       "\"\"\"\n",
       "                                Tobit Results                                 \n",
       "==============================================================================\n",
       "Dep. Variable:           Bid Per Unit   Log-Likelihood:                -10118.\n",
       "Model:                          Tobit   AIC:                         2.024e+04\n",
       "Method:            Maximum Likelihood   BIC:                         2.026e+04\n",
       "Date:                Thu, 22 Apr 2021                                         \n",
       "Time:                        19:53:19                                         \n",
       "No. Observations:                1991                                         \n",
       "Df Residuals:                    1988                                         \n",
       "Df Model:                           2                                         \n",
       "============================================================================================\n",
       "                               coef    std err          z      P>|z|      [0.025      0.975]\n",
       "--------------------------------------------------------------------------------------------\n",
       "Highest_HIGHEST             -7.3319      3.276     -2.238      0.025     -13.753      -0.911\n",
       "Estimated Volume            -0.0010      0.005     -0.205      0.838      -0.011       0.009\n",
       "Appraised Value Per Unit     0.5048      0.024     20.899      0.000       0.458       0.552\n",
       "var                       1519.8228     48.170     31.552      0.000    1425.412    1614.233\n",
       "============================================================================================\n",
       "\"\"\""
      ]
     },
     "execution_count": 5,
     "metadata": {},
     "output_type": "execute_result"
    }
   ],
   "source": [
    "# Fit the model with ols = True\n",
    "x = mich_bids[['Highest_HIGHEST', 'Estimated Volume', 'Appraised Value Per Unit']].copy()\n",
    "y = mich_bids['Bid Per Unit']\n",
    "tobit_model = selection_tests.Tobit(y,x, ols=True).fit()\n",
    "tobit_model.summary()"
   ]
  },
  {
   "cell_type": "code",
   "execution_count": 6,
   "metadata": {},
   "outputs": [
    {
     "name": "stdout",
     "output_type": "stream",
     "text": [
      "Warning: Maximum number of iterations has been exceeded.\n"
     ]
    },
    {
     "name": "stderr",
     "output_type": "stream",
     "text": [
      "/home/erichschulman/anaconda3/lib/python3.7/site-packages/statsmodels/base/model.py:512: ConvergenceWarning: Maximum Likelihood optimization failed to converge. Check mle_retvals\n",
      "  \"Check mle_retvals\", ConvergenceWarning)\n"
     ]
    },
    {
     "data": {
      "text/html": [
       "<table class=\"simpletable\">\n",
       "<caption>Tobit Results</caption>\n",
       "<tr>\n",
       "  <th>Dep. Variable:</th>       <td>Bid Per Unit</td>    <th>  Log-Likelihood:    </th> <td> -22614.</td> \n",
       "</tr>\n",
       "<tr>\n",
       "  <th>Model:</th>                   <td>Tobit</td>       <th>  AIC:               </th> <td>4.524e+04</td>\n",
       "</tr>\n",
       "<tr>\n",
       "  <th>Method:</th>           <td>Maximum Likelihood</td> <th>  BIC:               </th> <td>4.526e+04</td>\n",
       "</tr>\n",
       "<tr>\n",
       "  <th>Date:</th>              <td>Thu, 22 Apr 2021</td>  <th>                     </th>     <td> </td>    \n",
       "</tr>\n",
       "<tr>\n",
       "  <th>Time:</th>                  <td>19:53:20</td>      <th>                     </th>     <td> </td>    \n",
       "</tr>\n",
       "<tr>\n",
       "  <th>No. Observations:</th>       <td>  1991</td>       <th>                     </th>     <td> </td>    \n",
       "</tr>\n",
       "<tr>\n",
       "  <th>Df Residuals:</th>           <td>  1987</td>       <th>                     </th>     <td> </td>    \n",
       "</tr>\n",
       "<tr>\n",
       "  <th>Df Model:</th>               <td>     3</td>       <th>                     </th>     <td> </td>    \n",
       "</tr>\n",
       "</table>\n",
       "<table class=\"simpletable\">\n",
       "<tr>\n",
       "              <td></td>                <th>coef</th>     <th>std err</th>      <th>z</th>      <th>P>|z|</th>  <th>[0.025</th>    <th>0.975]</th>  \n",
       "</tr>\n",
       "<tr>\n",
       "  <th>Highest_HIGHEST</th>          <td> -219.0398</td> <td>    3.026</td> <td>  -72.391</td> <td> 0.000</td> <td> -224.970</td> <td> -213.109</td>\n",
       "</tr>\n",
       "<tr>\n",
       "  <th>Estimated Volume</th>         <td>    0.0282</td> <td>    0.002</td> <td>   11.553</td> <td> 0.000</td> <td>    0.023</td> <td>    0.033</td>\n",
       "</tr>\n",
       "<tr>\n",
       "  <th>Appraised Value Per Unit</th> <td>    1.0668</td> <td>    0.014</td> <td>   78.078</td> <td> 0.000</td> <td>    1.040</td> <td>    1.094</td>\n",
       "</tr>\n",
       "<tr>\n",
       "  <th>Year</th>                     <td>   -0.0003</td> <td>    0.000</td> <td>   -0.562</td> <td> 0.574</td> <td>   -0.001</td> <td>    0.001</td>\n",
       "</tr>\n",
       "<tr>\n",
       "  <th>var</th>                      <td>  176.8939</td> <td>    1.501</td> <td>  117.878</td> <td> 0.000</td> <td>  173.953</td> <td>  179.835</td>\n",
       "</tr>\n",
       "</table>"
      ],
      "text/plain": [
       "<class 'statsmodels.iolib.summary.Summary'>\n",
       "\"\"\"\n",
       "                                Tobit Results                                 \n",
       "==============================================================================\n",
       "Dep. Variable:           Bid Per Unit   Log-Likelihood:                -22614.\n",
       "Model:                          Tobit   AIC:                         4.524e+04\n",
       "Method:            Maximum Likelihood   BIC:                         4.526e+04\n",
       "Date:                Thu, 22 Apr 2021                                         \n",
       "Time:                        19:53:20                                         \n",
       "No. Observations:                1991                                         \n",
       "Df Residuals:                    1987                                         \n",
       "Df Model:                           3                                         \n",
       "============================================================================================\n",
       "                               coef    std err          z      P>|z|      [0.025      0.975]\n",
       "--------------------------------------------------------------------------------------------\n",
       "Highest_HIGHEST           -219.0398      3.026    -72.391      0.000    -224.970    -213.109\n",
       "Estimated Volume             0.0282      0.002     11.553      0.000       0.023       0.033\n",
       "Appraised Value Per Unit     1.0668      0.014     78.078      0.000       1.040       1.094\n",
       "Year                        -0.0003      0.000     -0.562      0.574      -0.001       0.001\n",
       "var                        176.8939      1.501    117.878      0.000     173.953     179.835\n",
       "============================================================================================\n",
       "\"\"\""
      ]
     },
     "execution_count": 6,
     "metadata": {},
     "output_type": "execute_result"
    }
   ],
   "source": [
    "# Fit the Tobit model\n",
    "x = mich_bids[['Highest_HIGHEST', 'Estimated Volume', 'Appraised Value Per Unit', 'Year']].copy()\n",
    "y = mich_bids['Bid Per Unit']\n",
    "tobit_model = selection_tests.Tobit(y,x).fit()\n",
    "tobit_model.summary()"
   ]
  },
  {
   "cell_type": "code",
   "execution_count": 7,
   "metadata": {},
   "outputs": [
    {
     "name": "stderr",
     "output_type": "stream",
     "text": [
      "/home/erichschulman/anaconda3/lib/python3.7/site-packages/numpy/core/fromnumeric.py:2495: FutureWarning: Method .ptp is deprecated and will be removed in a future version. Use numpy.ptp instead.\n",
      "  return ptp(axis=axis, out=out, **kwargs)\n",
      "/home/erichschulman/anaconda3/lib/python3.7/site-packages/statsmodels/base/model.py:512: ConvergenceWarning: Maximum Likelihood optimization failed to converge. Check mle_retvals\n",
      "  \"Check mle_retvals\", ConvergenceWarning)\n",
      "/home/erichschulman/anaconda3/lib/python3.7/site-packages/statsmodels/base/model.py:512: ConvergenceWarning: Maximum Likelihood optimization failed to converge. Check mle_retvals\n",
      "  \"Check mle_retvals\", ConvergenceWarning)\n"
     ]
    },
    {
     "data": {
      "text/plain": [
       "2"
      ]
     },
     "execution_count": 7,
     "metadata": {},
     "output_type": "execute_result"
    }
   ],
   "source": [
    "# Fit the regular test model\n",
    "x = mich_bids[['Highest_HIGHEST', 'Estimated Volume', 'Appraised Value Per Unit', 'Year']].copy()\n",
    "y = mich_bids['Bid Per Unit']\n",
    "regular_test_model = selection_tests.regular_test(y,x,selection_tests.setup_test)\n",
    "regular_test_model"
   ]
  },
  {
   "cell_type": "code",
   "execution_count": 8,
   "metadata": {},
   "outputs": [
    {
     "ename": "TypeError",
     "evalue": "bootstrap_test() got an unexpected keyword argument 'trials'",
     "output_type": "error",
     "traceback": [
      "\u001b[0;31m---------------------------------------------------------------------------\u001b[0m",
      "\u001b[0;31mTypeError\u001b[0m                                 Traceback (most recent call last)",
      "\u001b[0;32m<ipython-input-8-a8dfdf595f40>\u001b[0m in \u001b[0;36m<module>\u001b[0;34m\u001b[0m\n\u001b[1;32m      2\u001b[0m \u001b[0mx\u001b[0m \u001b[0;34m=\u001b[0m \u001b[0mmich_bids\u001b[0m\u001b[0;34m[\u001b[0m\u001b[0;34m[\u001b[0m\u001b[0;34m'Highest_HIGHEST'\u001b[0m\u001b[0;34m,\u001b[0m \u001b[0;34m'Estimated Volume'\u001b[0m\u001b[0;34m,\u001b[0m \u001b[0;34m'Appraised Value Per Unit'\u001b[0m\u001b[0;34m,\u001b[0m \u001b[0;34m'Year'\u001b[0m\u001b[0;34m]\u001b[0m\u001b[0;34m]\u001b[0m\u001b[0;34m.\u001b[0m\u001b[0mcopy\u001b[0m\u001b[0;34m(\u001b[0m\u001b[0;34m)\u001b[0m\u001b[0;34m\u001b[0m\u001b[0;34m\u001b[0m\u001b[0m\n\u001b[1;32m      3\u001b[0m \u001b[0my\u001b[0m \u001b[0;34m=\u001b[0m \u001b[0mmich_bids\u001b[0m\u001b[0;34m[\u001b[0m\u001b[0;34m'Bid Per Unit'\u001b[0m\u001b[0;34m]\u001b[0m\u001b[0;34m\u001b[0m\u001b[0;34m\u001b[0m\u001b[0m\n\u001b[0;32m----> 4\u001b[0;31m \u001b[0mbootstrap_test_model\u001b[0m \u001b[0;34m=\u001b[0m \u001b[0mselection_tests\u001b[0m\u001b[0;34m.\u001b[0m\u001b[0mbootstrap_test\u001b[0m\u001b[0;34m(\u001b[0m\u001b[0my\u001b[0m\u001b[0;34m,\u001b[0m\u001b[0mx\u001b[0m\u001b[0;34m,\u001b[0m\u001b[0mselection_tests\u001b[0m\u001b[0;34m.\u001b[0m\u001b[0msetup_test\u001b[0m\u001b[0;34m,\u001b[0m \u001b[0mtrials\u001b[0m\u001b[0;34m=\u001b[0m\u001b[0;36m100\u001b[0m\u001b[0;34m)\u001b[0m\u001b[0;34m\u001b[0m\u001b[0;34m\u001b[0m\u001b[0m\n\u001b[0m\u001b[1;32m      5\u001b[0m \u001b[0mbootstrap_test_model\u001b[0m\u001b[0;34m\u001b[0m\u001b[0;34m\u001b[0m\u001b[0m\n",
      "\u001b[0;31mTypeError\u001b[0m: bootstrap_test() got an unexpected keyword argument 'trials'"
     ]
    }
   ],
   "source": [
    "# Fit the bootstrap test model\n",
    "x = mich_bids[['Highest_HIGHEST', 'Estimated Volume', 'Appraised Value Per Unit', 'Year']].copy()\n",
    "y = mich_bids['Bid Per Unit']\n",
    "bootstrap_test_model = selection_tests.bootstrap_test(y,x,selection_tests.setup_test, trials=100)\n",
    "bootstrap_test_model"
   ]
  },
  {
   "cell_type": "code",
   "execution_count": null,
   "metadata": {},
   "outputs": [],
   "source": []
  }
 ],
 "metadata": {
  "kernelspec": {
   "display_name": "Python 3",
   "language": "python",
   "name": "python3"
  },
  "language_info": {
   "codemirror_mode": {
    "name": "ipython",
    "version": 3
   },
   "file_extension": ".py",
   "mimetype": "text/x-python",
   "name": "python",
   "nbconvert_exporter": "python",
   "pygments_lexer": "ipython3",
   "version": "3.7.4"
  }
 },
 "nbformat": 4,
 "nbformat_minor": 4
}
