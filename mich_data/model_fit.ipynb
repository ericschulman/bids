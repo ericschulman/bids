{
 "cells": [
  {
   "cell_type": "code",
   "execution_count": 2,
   "metadata": {},
   "outputs": [],
   "source": [
    "%load_ext autoreload\n",
    "%autoreload 2\n",
    "\n",
    "import numpy as np\n",
    "import pandas as pd\n",
    "import datetime\n",
    "#graphing\n",
    "import matplotlib.pyplot as plt\n",
    "#stats\n",
    "import statsmodels.api as sm\n",
    "from statsmodels.base.model import GenericLikelihoodModel\n",
    "\n",
    "#import testing\n",
    "import sys\n",
    "sys.path.append(\"../\")\n",
    "import selection_tests"
   ]
  },
  {
   "cell_type": "code",
   "execution_count": 3,
   "metadata": {},
   "outputs": [],
   "source": [
    "mich_bids = pd.read_csv('panel.csv',index_col=0)"
   ]
  },
  {
   "cell_type": "code",
   "execution_count": 4,
   "metadata": {},
   "outputs": [],
   "source": [
    "# Modify the dataset by filling NaNs and dropping NO BIDS\n",
    "mich_bids['Bid Per Unit'] = mich_bids['Bid Per Unit'].fillna(0)\n",
    "mich_bids = mich_bids[mich_bids['Bidder Name'] != ' NO BIDS']"
   ]
  },
  {
   "cell_type": "code",
   "execution_count": 5,
   "metadata": {},
   "outputs": [],
   "source": [
    "# Adding year for fixed effects\n",
    "mich_bids['year_month'] = mich_bids.index.values\n",
    "mich_bids[['Year','Month']] = mich_bids['year_month'].str.split(pat=\"-\", expand=True).astype(int)"
   ]
  },
  {
   "cell_type": "code",
   "execution_count": 6,
   "metadata": {},
   "outputs": [
    {
     "name": "stdout",
     "output_type": "stream",
     "text": [
      "Optimization terminated successfully.\n",
      "         Current function value: 4.997696\n",
      "         Iterations: 359\n",
      "         Function evaluations: 607\n"
     ]
    },
    {
     "data": {
      "text/html": [
       "<table class=\"simpletable\">\n",
       "<caption>Tobit Results</caption>\n",
       "<tr>\n",
       "  <th>Dep. Variable:</th>       <td>Bid Per Unit</td>    <th>  Log-Likelihood:    </th> <td> -8411.1</td> \n",
       "</tr>\n",
       "<tr>\n",
       "  <th>Model:</th>                   <td>Tobit</td>       <th>  AIC:               </th> <td>1.683e+04</td>\n",
       "</tr>\n",
       "<tr>\n",
       "  <th>Method:</th>           <td>Maximum Likelihood</td> <th>  BIC:               </th> <td>1.684e+04</td>\n",
       "</tr>\n",
       "<tr>\n",
       "  <th>Date:</th>              <td>Fri, 02 Apr 2021</td>  <th>                     </th>     <td> </td>    \n",
       "</tr>\n",
       "<tr>\n",
       "  <th>Time:</th>                  <td>15:05:02</td>      <th>                     </th>     <td> </td>    \n",
       "</tr>\n",
       "<tr>\n",
       "  <th>No. Observations:</th>       <td>  1683</td>       <th>                     </th>     <td> </td>    \n",
       "</tr>\n",
       "<tr>\n",
       "  <th>Df Residuals:</th>           <td>  1680</td>       <th>                     </th>     <td> </td>    \n",
       "</tr>\n",
       "<tr>\n",
       "  <th>Df Model:</th>               <td>     2</td>       <th>                     </th>     <td> </td>    \n",
       "</tr>\n",
       "</table>\n",
       "<table class=\"simpletable\">\n",
       "<tr>\n",
       "              <td></td>                <th>coef</th>     <th>std err</th>      <th>z</th>      <th>P>|z|</th>  <th>[0.025</th>    <th>0.975]</th>  \n",
       "</tr>\n",
       "<tr>\n",
       "  <th>Highest_HIGHEST</th>          <td>   49.3838</td> <td>    3.078</td> <td>   16.043</td> <td> 0.000</td> <td>   43.351</td> <td>   55.417</td>\n",
       "</tr>\n",
       "<tr>\n",
       "  <th>Estimated Volume</th>         <td>   -0.0059</td> <td>    0.005</td> <td>   -1.291</td> <td> 0.197</td> <td>   -0.015</td> <td>    0.003</td>\n",
       "</tr>\n",
       "<tr>\n",
       "  <th>Appraised Value Per Unit</th> <td>    0.4342</td> <td>    0.020</td> <td>   22.127</td> <td> 0.000</td> <td>    0.396</td> <td>    0.473</td>\n",
       "</tr>\n",
       "<tr>\n",
       "  <th>var</th>                      <td> 1283.7172</td> <td>   44.253</td> <td>   29.009</td> <td> 0.000</td> <td> 1196.983</td> <td> 1370.451</td>\n",
       "</tr>\n",
       "</table>"
      ],
      "text/plain": [
       "<class 'statsmodels.iolib.summary.Summary'>\n",
       "\"\"\"\n",
       "                                Tobit Results                                 \n",
       "==============================================================================\n",
       "Dep. Variable:           Bid Per Unit   Log-Likelihood:                -8411.1\n",
       "Model:                          Tobit   AIC:                         1.683e+04\n",
       "Method:            Maximum Likelihood   BIC:                         1.684e+04\n",
       "Date:                Fri, 02 Apr 2021                                         \n",
       "Time:                        15:05:02                                         \n",
       "No. Observations:                1683                                         \n",
       "Df Residuals:                    1680                                         \n",
       "Df Model:                           2                                         \n",
       "============================================================================================\n",
       "                               coef    std err          z      P>|z|      [0.025      0.975]\n",
       "--------------------------------------------------------------------------------------------\n",
       "Highest_HIGHEST             49.3838      3.078     16.043      0.000      43.351      55.417\n",
       "Estimated Volume            -0.0059      0.005     -1.291      0.197      -0.015       0.003\n",
       "Appraised Value Per Unit     0.4342      0.020     22.127      0.000       0.396       0.473\n",
       "var                       1283.7172     44.253     29.009      0.000    1196.983    1370.451\n",
       "============================================================================================\n",
       "\"\"\""
      ]
     },
     "execution_count": 6,
     "metadata": {},
     "output_type": "execute_result"
    }
   ],
   "source": [
    "# Fit the model with ols = True\n",
    "x = mich_bids[['Highest_HIGHEST', 'Estimated Volume', 'Appraised Value Per Unit']].copy()\n",
    "y = mich_bids['Bid Per Unit']\n",
    "tobit_model = selection_tests.Tobit(y,x, ols=True).fit()\n",
    "tobit_model.summary()"
   ]
  },
  {
   "cell_type": "code",
   "execution_count": 7,
   "metadata": {},
   "outputs": [
    {
     "name": "stdout",
     "output_type": "stream",
     "text": [
      "Warning: Maximum number of iterations has been exceeded.\n"
     ]
    },
    {
     "name": "stderr",
     "output_type": "stream",
     "text": [
      "C:\\Users\\himan\\anaconda3\\lib\\site-packages\\statsmodels\\base\\model.py:567: ConvergenceWarning: Maximum Likelihood optimization failed to converge. Check mle_retvals\n",
      "  warn(\"Maximum Likelihood optimization failed to converge. \"\n"
     ]
    },
    {
     "data": {
      "text/html": [
       "<table class=\"simpletable\">\n",
       "<caption>Tobit Results</caption>\n",
       "<tr>\n",
       "  <th>Dep. Variable:</th>       <td>Bid Per Unit</td>    <th>  Log-Likelihood:    </th> <td> -9715.5</td> \n",
       "</tr>\n",
       "<tr>\n",
       "  <th>Model:</th>                   <td>Tobit</td>       <th>  AIC:               </th> <td>1.944e+04</td>\n",
       "</tr>\n",
       "<tr>\n",
       "  <th>Method:</th>           <td>Maximum Likelihood</td> <th>  BIC:               </th> <td>1.946e+04</td>\n",
       "</tr>\n",
       "<tr>\n",
       "  <th>Date:</th>              <td>Fri, 02 Apr 2021</td>  <th>                     </th>     <td> </td>    \n",
       "</tr>\n",
       "<tr>\n",
       "  <th>Time:</th>                  <td>15:06:26</td>      <th>                     </th>     <td> </td>    \n",
       "</tr>\n",
       "<tr>\n",
       "  <th>No. Observations:</th>       <td>  1683</td>       <th>                     </th>     <td> </td>    \n",
       "</tr>\n",
       "<tr>\n",
       "  <th>Df Residuals:</th>           <td>  1679</td>       <th>                     </th>     <td> </td>    \n",
       "</tr>\n",
       "<tr>\n",
       "  <th>Df Model:</th>               <td>     3</td>       <th>                     </th>     <td> </td>    \n",
       "</tr>\n",
       "</table>\n",
       "<table class=\"simpletable\">\n",
       "<tr>\n",
       "              <td></td>                <th>coef</th>     <th>std err</th>      <th>z</th>      <th>P>|z|</th>  <th>[0.025</th>    <th>0.975]</th>  \n",
       "</tr>\n",
       "<tr>\n",
       "  <th>Highest_HIGHEST</th>          <td> -127.1823</td> <td>    3.643</td> <td>  -34.914</td> <td> 0.000</td> <td> -134.322</td> <td> -120.043</td>\n",
       "</tr>\n",
       "<tr>\n",
       "  <th>Estimated Volume</th>         <td>    0.0244</td> <td>    0.004</td> <td>    6.094</td> <td> 0.000</td> <td>    0.017</td> <td>    0.032</td>\n",
       "</tr>\n",
       "<tr>\n",
       "  <th>Appraised Value Per Unit</th> <td>    0.7137</td> <td>    0.019</td> <td>   37.921</td> <td> 0.000</td> <td>    0.677</td> <td>    0.751</td>\n",
       "</tr>\n",
       "<tr>\n",
       "  <th>Year</th>                     <td>   -0.0068</td> <td>    0.001</td> <td>   -9.921</td> <td> 0.000</td> <td>   -0.008</td> <td>   -0.005</td>\n",
       "</tr>\n",
       "<tr>\n",
       "  <th>var</th>                      <td>  553.1295</td> <td>    9.125</td> <td>   60.617</td> <td> 0.000</td> <td>  535.245</td> <td>  571.014</td>\n",
       "</tr>\n",
       "</table>"
      ],
      "text/plain": [
       "<class 'statsmodels.iolib.summary.Summary'>\n",
       "\"\"\"\n",
       "                                Tobit Results                                 \n",
       "==============================================================================\n",
       "Dep. Variable:           Bid Per Unit   Log-Likelihood:                -9715.5\n",
       "Model:                          Tobit   AIC:                         1.944e+04\n",
       "Method:            Maximum Likelihood   BIC:                         1.946e+04\n",
       "Date:                Fri, 02 Apr 2021                                         \n",
       "Time:                        15:06:26                                         \n",
       "No. Observations:                1683                                         \n",
       "Df Residuals:                    1679                                         \n",
       "Df Model:                           3                                         \n",
       "============================================================================================\n",
       "                               coef    std err          z      P>|z|      [0.025      0.975]\n",
       "--------------------------------------------------------------------------------------------\n",
       "Highest_HIGHEST           -127.1823      3.643    -34.914      0.000    -134.322    -120.043\n",
       "Estimated Volume             0.0244      0.004      6.094      0.000       0.017       0.032\n",
       "Appraised Value Per Unit     0.7137      0.019     37.921      0.000       0.677       0.751\n",
       "Year                        -0.0068      0.001     -9.921      0.000      -0.008      -0.005\n",
       "var                        553.1295      9.125     60.617      0.000     535.245     571.014\n",
       "============================================================================================\n",
       "\"\"\""
      ]
     },
     "execution_count": 7,
     "metadata": {},
     "output_type": "execute_result"
    }
   ],
   "source": [
    "# Fit the model\n",
    "x = mich_bids[['Highest_HIGHEST', 'Estimated Volume', 'Appraised Value Per Unit', 'Year']].copy()\n",
    "y = mich_bids['Bid Per Unit']\n",
    "tobit_model = selection_tests.Tobit(y,x).fit()\n",
    "tobit_model.summary()"
   ]
  },
  {
   "cell_type": "code",
   "execution_count": null,
   "metadata": {},
   "outputs": [],
   "source": []
  }
 ],
 "metadata": {
  "kernelspec": {
   "display_name": "Python 3",
   "language": "python",
   "name": "python3"
  },
  "language_info": {
   "codemirror_mode": {
    "name": "ipython",
    "version": 3
   },
   "file_extension": ".py",
   "mimetype": "text/x-python",
   "name": "python",
   "nbconvert_exporter": "python",
   "pygments_lexer": "ipython3",
   "version": "3.8.3"
  }
 },
 "nbformat": 4,
 "nbformat_minor": 4
}
