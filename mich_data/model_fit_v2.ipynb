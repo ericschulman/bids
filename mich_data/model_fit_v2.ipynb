{
 "cells": [
  {
   "cell_type": "code",
   "execution_count": 1,
   "metadata": {},
   "outputs": [],
   "source": [
    "%load_ext autoreload\n",
    "%autoreload 2\n",
    "\n",
    "import numpy as np\n",
    "import pandas as pd\n",
    "import datetime\n",
    "#graphing\n",
    "import matplotlib.pyplot as plt\n",
    "#stats\n",
    "import statsmodels.api as sm\n",
    "from statsmodels.base.model import GenericLikelihoodModel\n",
    "\n",
    "#import testing\n",
    "import sys\n",
    "sys.path.append(\"../\")\n",
    "import selection_tests"
   ]
  },
  {
   "cell_type": "code",
   "execution_count": 2,
   "metadata": {},
   "outputs": [
    {
     "name": "stderr",
     "output_type": "stream",
     "text": [
      "/home/erichschulman/anaconda3/lib/python3.7/site-packages/numpy/core/fromnumeric.py:2495: FutureWarning: Method .ptp is deprecated and will be removed in a future version. Use numpy.ptp instead.\n",
      "  return ptp(axis=axis, out=out, **kwargs)\n"
     ]
    }
   ],
   "source": [
    "# Modify the dataset by filling NaNs and dropping NO BIDS\n",
    "mich_bids = pd.read_csv('panel.csv')\n",
    "mich_bids[['Bid Per Unit','Highest']] = mich_bids[['Bid Per Unit','Highest']].fillna(0)\n",
    "\n",
    "#add constant\n",
    "mich_bids = sm.add_constant(mich_bids)\n",
    "\n",
    "#units\n",
    "unit_dummies = pd.get_dummies(mich_bids['Units'])\n",
    "unit_dummies_name =  list(unit_dummies.columns)\n",
    "mich_bids[unit_dummies_name]  = unit_dummies\n",
    "\n",
    "#years\n",
    "year_dummies = pd.get_dummies(mich_bids['month_year'].apply(lambda x : x[0:4]))\n",
    "year_dummies_name = list(year_dummies.columns)\n",
    "mich_bids[year_dummies_name]  = year_dummies\n",
    "\n",
    "\n",
    "#interact stuff with units  'Highest',\n",
    "x_names_raw = ['const', 'Estimated Volume', 'Appraised Value Per Unit']\n",
    "x_names_cov = []\n",
    "for unit in ['MBF','Cords']: #unit_dummies_name:\n",
    "    for x_name in x_names_raw:\n",
    "        x_names_cov.append('%s*%s'%(x_name,unit))\n",
    "        mich_bids['%s*%s'%(x_name,unit)] = mich_bids[x_name]*mich_bids[unit]\n",
    "        \n",
    "mich_bids['Estimated Volume*Appraised Value Per Unit']  = mich_bids['Estimated Volume']*mich_bids['Appraised Value Per Unit']"
   ]
  },
  {
   "cell_type": "code",
   "execution_count": 3,
   "metadata": {},
   "outputs": [
    {
     "data": {
      "image/png": "[encoded data removed]",
      "text/plain": [
       "<Figure size 432x288 with 1 Axes>"
      ]
     },
     "metadata": {
      "needs_background": "light"
     },
     "output_type": "display_data"
    }
   ],
   "source": [
    "\n",
    "plt.hist(mich_bids['Bid Per Unit'][mich_bids['Bid Per Unit']!=0],bins=20, range=(0,400))\n",
    "plt.xlabel('Bid per Unit')\n",
    "plt.ylabel('Frequency')\n",
    "plt.savefig('bids_hist.png')\n",
    "plt.show()\n"
   ]
  },
  {
   "cell_type": "code",
   "execution_count": 4,
   "metadata": {
    "scrolled": false
   },
   "outputs": [
    {
     "name": "stdout",
     "output_type": "stream",
     "text": [
      "\\begin{center}\n",
      "\\begin{tabular}{lclc}\n",
      "\\toprule\n",
      "\\textbf{Dep. Variable:}                 &   Bid Per Unit   & \\textbf{  R-squared:         } &     0.140   \\\\\n",
      "\\textbf{Model:}                         &       OLS        & \\textbf{  Adj. R-squared:    } &     0.139   \\\\\n",
      "\\textbf{Method:}                        &  Least Squares   & \\textbf{  F-statistic:       } &     111.2   \\\\\n",
      "\\textbf{Date:}                          & Wed, 19 May 2021 & \\textbf{  Prob (F-statistic):} & 3.76e-109   \\\\\n",
      "\\textbf{Time:}                          &     21:26:30     & \\textbf{  Log-Likelihood:    } &   -17804.   \\\\\n",
      "\\textbf{No. Observations:}              &        3412      & \\textbf{  AIC:               } & 3.562e+04   \\\\\n",
      "\\textbf{Df Residuals:}                  &        3406      & \\textbf{  BIC:               } & 3.566e+04   \\\\\n",
      "\\textbf{Df Model:}                      &           5      & \\textbf{                     } &             \\\\\n",
      "\\bottomrule\n",
      "\\end{tabular}\n",
      "\\begin{tabular}{lcccccc}\n",
      "                                        & \\textbf{coef} & \\textbf{std err} & \\textbf{t} & \\textbf{P$> |$t$|$} & \\textbf{[0.025} & \\textbf{0.975]}  \\\\\n",
      "\\midrule\n",
      "\\textbf{const*MBF}                      &       8.8239  &        2.874     &     3.070  &         0.002        &        3.188    &       14.459     \\\\\n",
      "\\textbf{Estimated Volume*MBF}           &       0.0400  &        0.024     &     1.641  &         0.101        &       -0.008    &        0.088     \\\\\n",
      "\\textbf{Appraised Value Per Unit*MBF}   &       0.3065  &        0.030     &    10.169  &         0.000        &        0.247    &        0.366     \\\\\n",
      "\\textbf{const*Cords}                    &       1.5350  &        2.915     &     0.527  &         0.599        &       -4.181    &        7.251     \\\\\n",
      "\\textbf{Estimated Volume*Cords}         &       0.0033  &        0.004     &     0.837  &         0.402        &       -0.004    &        0.011     \\\\\n",
      "\\textbf{Appraised Value Per Unit*Cords} &       0.2497  &        0.164     &     1.524  &         0.128        &       -0.071    &        0.571     \\\\\n",
      "\\bottomrule\n",
      "\\end{tabular}\n",
      "\\begin{tabular}{lclc}\n",
      "\\textbf{Omnibus:}       & 2861.495 & \\textbf{  Durbin-Watson:     } &     1.727   \\\\\n",
      "\\textbf{Prob(Omnibus):} &   0.000  & \\textbf{  Jarque-Bera (JB):  } & 190375.986  \\\\\n",
      "\\textbf{Skew:}          &   3.566  & \\textbf{  Prob(JB):          } &      0.00   \\\\\n",
      "\\textbf{Kurtosis:}      &  38.892  & \\textbf{  Cond. No.          } &  1.08e+03   \\\\\n",
      "\\bottomrule\n",
      "\\end{tabular}\n",
      "%\\caption{OLS Regression Results}\n",
      "\\end{center}\n",
      "\n",
      "Warnings: \\newline\n",
      " [1] Standard Errors assume that the covariance matrix of the errors is correctly specified. \\newline\n",
      " [2] The condition number is large, 1.08e+03. This might indicate that there are \\newline\n",
      " strong multicollinearity or other numerical problems.\n"
     ]
    }
   ],
   "source": [
    "# Fit the model with ols = True\n",
    "x_names_raw = ['const', 'Estimated Volume', 'Appraised Value Per Unit']\n",
    "x_names = x_names_cov #(x_names_raw + unit_dummies_name[1:] )  #+ ['Estimated Volume*Appraised Value Per Unit']  \n",
    "          #+ year_dummies_name[1:]) #\n",
    "\n",
    "#different datasets\n",
    "mich_bids_nozeros = mich_bids[mich_bids['Bid Per Unit']!=0]\n",
    "mich_bids_cords = mich_bids[mich_bids['Units']!='Acres']\n",
    "mich_bids_cordsnozeros = mich_bids[ (mich_bids['Units']!='Acres') & (mich_bids['Bid Per Unit']!=0) ]\n",
    "\n",
    "#setup x/y\n",
    "x = mich_bids_cords[x_names ].copy()\n",
    "y = mich_bids_cords['Bid Per Unit']\n",
    "\n",
    "ols_model = sm.OLS(y,x).fit()\n",
    "print(ols_model.summary().as_latex())\n",
    "\n",
    "# seems like year fixed effects are not predictive\n",
    "# also seems like estimated volume doesn't matter\n",
    "# seems like apraised value is the only thing\n",
    "# only like 13 observations with acres"
   ]
  },
  {
   "cell_type": "code",
   "execution_count": 5,
   "metadata": {},
   "outputs": [
    {
     "name": "stdout",
     "output_type": "stream",
     "text": [
      "Optimization terminated successfully.\n",
      "         Current function value: 5.218085\n",
      "         Iterations: 206\n",
      "         Function evaluations: 327\n",
      "\\begin{center}\n",
      "\\begin{tabular}{lclc}\n",
      "\\toprule\n",
      "\\textbf{Dep. Variable:}                 &    Bid Per Unit    & \\textbf{  Log-Likelihood:    } &   -17804.   \\\\\n",
      "\\textbf{Model:}                         &       Tobit        & \\textbf{  AIC:               } & 3.562e+04   \\\\\n",
      "\\textbf{Method:}                        & Maximum Likelihood & \\textbf{  BIC:               } & 3.566e+04   \\\\\n",
      "\\textbf{Date:}                          &  Wed, 19 May 2021  & \\textbf{                     } &             \\\\\n",
      "\\textbf{Time:}                          &      21:26:31      & \\textbf{                     } &             \\\\\n",
      "\\textbf{No. Observations:}              &         3412       & \\textbf{                     } &             \\\\\n",
      "\\textbf{Df Residuals:}                  &         3406       & \\textbf{                     } &             \\\\\n",
      "\\bottomrule\n",
      "\\end{tabular}\n",
      "\\begin{tabular}{lcccccc}\n",
      "                                        & \\textbf{coef} & \\textbf{std err} & \\textbf{z} & \\textbf{P$> |$z$|$} & \\textbf{[0.025} & \\textbf{0.975]}  \\\\\n",
      "\\midrule\n",
      "\\textbf{const*MBF}                      &       8.8239  &        2.872     &     3.073  &         0.002        &        3.195    &       14.452     \\\\\n",
      "\\textbf{Estimated Volume*MBF}           &       0.0400  &        0.024     &     1.642  &         0.101        &       -0.008    &        0.088     \\\\\n",
      "\\textbf{Appraised Value Per Unit*MBF}   &       0.3065  &        0.030     &    10.178  &         0.000        &        0.248    &        0.366     \\\\\n",
      "\\textbf{const*Cords}                    &       1.5350  &        2.913     &     0.527  &         0.598        &       -4.175    &        7.245     \\\\\n",
      "\\textbf{Estimated Volume*Cords}         &       0.0033  &        0.004     &     0.838  &         0.402        &       -0.004    &        0.011     \\\\\n",
      "\\textbf{Appraised Value Per Unit*Cords} &       0.2497  &        0.164     &     1.526  &         0.127        &       -0.071    &        0.570     \\\\\n",
      "\\textbf{var}                            &    1994.7885  &       48.296     &    41.304  &         0.000        &     1900.131    &     2089.446     \\\\\n",
      "\\bottomrule\n",
      "\\end{tabular}\n",
      "%\\caption{Tobit Results}\n",
      "\\end{center}\n"
     ]
    }
   ],
   "source": [
    "tobit_model = selection_tests.Tobit(y,x, ols=True).fit()\n",
    "print(tobit_model.summary().as_latex())"
   ]
  },
  {
   "cell_type": "code",
   "execution_count": 6,
   "metadata": {},
   "outputs": [
    {
     "name": "stdout",
     "output_type": "stream",
     "text": [
      "Warning: Maximum number of iterations has been exceeded.\n"
     ]
    },
    {
     "name": "stderr",
     "output_type": "stream",
     "text": [
      "/home/erichschulman/anaconda3/lib/python3.7/site-packages/statsmodels/base/model.py:512: ConvergenceWarning: Maximum Likelihood optimization failed to converge. Check mle_retvals\n",
      "  \"Check mle_retvals\", ConvergenceWarning)\n"
     ]
    },
    {
     "data": {
      "text/plain": [
       "'\\\\begin{center}\\n\\\\begin{tabular}{lclc}\\n\\\\toprule\\n\\\\textbf{Dep. Variable:}                 &    Bid Per Unit    & \\\\textbf{  Log-Likelihood:    } &   -8235.6   \\\\\\\\\\n\\\\textbf{Model:}                         &       Tobit        & \\\\textbf{  AIC:               } & 1.648e+04   \\\\\\\\\\n\\\\textbf{Method:}                        & Maximum Likelihood & \\\\textbf{  BIC:               } & 1.652e+04   \\\\\\\\\\n\\\\textbf{Date:}                          &  Wed, 19 May 2021  & \\\\textbf{                     } &             \\\\\\\\\\n\\\\textbf{Time:}                          &      21:26:32      & \\\\textbf{                     } &             \\\\\\\\\\n\\\\textbf{No. Observations:}              &         3412       & \\\\textbf{                     } &             \\\\\\\\\\n\\\\textbf{Df Residuals:}                  &         3406       & \\\\textbf{                     } &             \\\\\\\\\\n\\\\bottomrule\\n\\\\end{tabular}\\n\\\\begin{tabular}{lcccccc}\\n                                        & \\\\textbf{coef} & \\\\textbf{std err} & \\\\textbf{z} & \\\\textbf{P$> |$z$|$} & \\\\textbf{[0.025} & \\\\textbf{0.975]}  \\\\\\\\\\n\\\\midrule\\n\\\\textbf{const*MBF}                      &     -51.2126  &        7.442     &    -6.881  &         0.000        &      -65.799    &      -36.626     \\\\\\\\\\n\\\\textbf{Estimated Volume*MBF}           &       0.1648  &        0.060     &     2.739  &         0.006        &        0.047    &        0.283     \\\\\\\\\\n\\\\textbf{Appraised Value Per Unit*MBF}   &       0.3145  &        0.076     &     4.141  &         0.000        &        0.166    &        0.463     \\\\\\\\\\n\\\\textbf{const*Cords}                    &     -10.9933  &        8.177     &    -1.344  &         0.179        &      -27.019    &        5.032     \\\\\\\\\\n\\\\textbf{Estimated Volume*Cords}         &       0.0419  &        0.010     &     4.146  &         0.000        &        0.022    &        0.062     \\\\\\\\\\n\\\\textbf{Appraised Value Per Unit*Cords} &      -3.8920  &        0.520     &    -7.489  &         0.000        &       -4.911    &       -2.873     \\\\\\\\\\n\\\\textbf{var}                            &    9373.0560  &      452.556     &    20.711  &         0.000        &     8486.063    &     1.03e+04     \\\\\\\\\\n\\\\bottomrule\\n\\\\end{tabular}\\n%\\\\caption{Tobit Results}\\n\\\\end{center}'"
      ]
     },
     "execution_count": 6,
     "metadata": {},
     "output_type": "execute_result"
    }
   ],
   "source": [
    "# Fit the model with ols = False\n",
    "tobit_model = selection_tests.Tobit(y,x).fit()\n",
    "tobit_model.summary().as_latex()"
   ]
  },
  {
   "cell_type": "code",
   "execution_count": 12,
   "metadata": {},
   "outputs": [
    {
     "name": "stderr",
     "output_type": "stream",
     "text": [
      "/home/erichschulman/anaconda3/lib/python3.7/site-packages/statsmodels/base/model.py:512: ConvergenceWarning: Maximum Likelihood optimization failed to converge. Check mle_retvals\n",
      "  \"Check mle_retvals\", ConvergenceWarning)\n"
     ]
    },
    {
     "name": "stdout",
     "output_type": "stream",
     "text": [
      "-8234.34171698352 -17804.106633391522 9569.764916408007 3.2148973728127666 50.96002640347636\n",
      "50.96002640347636 3.2148973728127666\n"
     ]
    },
    {
     "data": {
      "text/plain": [
       "(1, 50.96002640347636)"
      ]
     },
     "execution_count": 12,
     "metadata": {},
     "output_type": "execute_result"
    }
   ],
   "source": [
    "# Fit the regular test model\n",
    "regular_test_model = selection_tests.regular_test(y,x,selection_tests.setup_test)\n",
    "regular_test_model"
   ]
  },
  {
   "cell_type": "code",
   "execution_count": 13,
   "metadata": {},
   "outputs": [
    {
     "name": "stderr",
     "output_type": "stream",
     "text": [
      "/home/erichschulman/anaconda3/lib/python3.7/site-packages/statsmodels/base/model.py:512: ConvergenceWarning: Maximum Likelihood optimization failed to converge. Check mle_retvals\n",
      "  \"Check mle_retvals\", ConvergenceWarning)\n"
     ]
    },
    {
     "name": "stdout",
     "output_type": "stream",
     "text": [
      "(9577.330496516886+3.7862429810803705e-17j) (187.789638110454+0j)\n"
     ]
    },
    {
     "data": {
      "text/plain": [
       "(1,\n",
       " (39.05766877082215+1.4820596196143397e-19j),\n",
       " (65.0249822004796+2.5239173059891435e-19j))"
      ]
     },
     "execution_count": 13,
     "metadata": {},
     "output_type": "execute_result"
    }
   ],
   "source": [
    "# Fit the bootstrap test model\n",
    "bootstrap_test_model = selection_tests.bootstrap_test(y,x,selection_tests.setup_test, trials=100)\n",
    "bootstrap_test_model"
   ]
  },
  {
   "cell_type": "code",
   "execution_count": 30,
   "metadata": {},
   "outputs": [
    {
     "name": "stderr",
     "output_type": "stream",
     "text": [
      "/home/erichschulman/anaconda3/lib/python3.7/site-packages/statsmodels/base/model.py:512: ConvergenceWarning: Maximum Likelihood optimization failed to converge. Check mle_retvals\n",
      "  \"Check mle_retvals\", ConvergenceWarning)\n"
     ]
    },
    {
     "name": "stdout",
     "output_type": "stream",
     "text": [
      "V ----\n",
      "(7.565580108879794+3.7862429810803705e-17j)\n",
      "----\n",
      "---- bootstrap: llr, omega ----\n",
      "(9577.330496516886+3.7862429810803705e-17j) (187.789638110454+0j)\n",
      "----\n"
     ]
    },
    {
     "name": "stderr",
     "output_type": "stream",
     "text": [
      "/home/erichschulman/anaconda3/lib/python3.7/site-packages/statsmodels/base/model.py:512: ConvergenceWarning: Maximum Likelihood optimization failed to converge. Check mle_retvals\n",
      "  \"Check mle_retvals\", ConvergenceWarning)\n"
     ]
    },
    {
     "name": "stdout",
     "output_type": "stream",
     "text": [
      "regular: test, llr, omega ----\n",
      "50.96002640347636 9569.764916408007 3.2148973728127666\n",
      "---- \n",
      "\\begin{center}\n",
      "\\begin{tabular}{cccc}\n",
      "\\toprule\n",
      "\\textbf{Version} & \\textbf{Result} & \\textbf{Stat} & \\textbf{95 \\% CI} \\\\ \\midrule\n",
      "Bootstrap & H1 & -- & [38.138, 65.737] \\\\\n",
      "Classical & H1 & 50.960 & [1.959, 1.959] \\\\\n",
      "\\bottomrule\n",
      "\\end{tabular}\n",
      "\\end{center}\n"
     ]
    },
    {
     "name": "stderr",
     "output_type": "stream",
     "text": [
      "../selection_tests.py:217: ComplexWarning: Casting complex values to real discards the imaginary part\n"
     ]
    }
   ],
   "source": [
    "selection_tests.test_table(y,x,selection_tests.setup_test, trials=100)"
   ]
  },
  {
   "cell_type": "code",
   "execution_count": null,
   "metadata": {},
   "outputs": [],
   "source": []
  }
 ],
 "metadata": {
  "kernelspec": {
   "display_name": "Python 3",
   "language": "python",
   "name": "python3"
  },
  "language_info": {
   "codemirror_mode": {
    "name": "ipython",
    "version": 3
   },
   "file_extension": ".py",
   "mimetype": "text/x-python",
   "name": "python",
   "nbconvert_exporter": "python",
   "pygments_lexer": "ipython3",
   "version": "3.7.4"
  }
 },
 "nbformat": 4,
 "nbformat_minor": 4
}
