{
 "cells": [
  {
   "cell_type": "code",
   "execution_count": 33,
   "metadata": {},
   "outputs": [
    {
     "name": "stdout",
     "output_type": "stream",
     "text": [
      "The autoreload extension is already loaded. To reload it, use:\n",
      "  %reload_ext autoreload\n"
     ]
    }
   ],
   "source": [
    "%load_ext autoreload\n",
    "%autoreload 2\n",
    "\n",
    "import numpy as np\n",
    "import pandas as pd\n",
    "import datetime\n",
    "#graphing\n",
    "import matplotlib.pyplot as plt\n",
    "#stats\n",
    "import statsmodels.api as sm\n",
    "from statsmodels.base.model import GenericLikelihoodModel\n",
    "\n",
    "#import testing\n",
    "import sys\n",
    "sys.path.append(\"../\")\n",
    "import selection_tests"
   ]
  },
  {
   "cell_type": "code",
   "execution_count": 41,
   "metadata": {},
   "outputs": [],
   "source": [
    "# Modify the dataset by filling NaNs and dropping NO BIDS\n",
    "mich_bids = pd.read_csv('panel.csv')\n",
    "mich_bids[['Bid Per Unit','Highest']] = mich_bids[['Bid Per Unit','Highest']].fillna(0)\n",
    "\n",
    "#add constant\n",
    "mich_bids = sm.add_constant(mich_bids)\n",
    "\n",
    "#units\n",
    "unit_dummies = pd.get_dummies(mich_bids['Units'])\n",
    "unit_dummies_name =  list(unit_dummies.columns)\n",
    "mich_bids[unit_dummies_name]  = unit_dummies\n",
    "\n",
    "#years\n",
    "year_dummies = pd.get_dummies(mich_bids['month_year'].apply(lambda x : x[0:4]))\n",
    "year_dummies_name = list(year_dummies.columns)\n",
    "mich_bids[year_dummies_name]  = year_dummies\n",
    "\n",
    "\n",
    "#interact stuff with units  'Highest',\n",
    "x_names_raw = ['const', 'Appraised Value Per Unit','pot_bidders','Highest','acc_bidders']# 'Estimated Volume'] \n",
    "x_names_cov = []\n",
    "for unit in ['MBF','Cords']: #unit_dummies_name:\n",
    "    for x_name in x_names_raw:\n",
    "        x_names_cov.append('%s*%s'%(x_name,unit))\n",
    "        mich_bids['%s*%s'%(x_name,unit)] = mich_bids[x_name]*mich_bids[unit]\n",
    "        \n",
    "mich_bids['Estimated Volume*Appraised Value Per Unit']  = mich_bids['Estimated Volume']*mich_bids['Appraised Value Per Unit']"
   ]
  },
  {
   "cell_type": "code",
   "execution_count": 42,
   "metadata": {},
   "outputs": [
    {
     "data": {
      "image/png": "[encoded data removed]",
      "text/plain": [
       "<Figure size 432x288 with 1 Axes>"
      ]
     },
     "metadata": {
      "needs_background": "light"
     },
     "output_type": "display_data"
    },
    {
     "name": "stdout",
     "output_type": "stream",
     "text": [
      "Index(['const', 'month_year', 'pot_bidders', 'Bidder Name', 'Sale #', 'Units',\n",
      "       'Bid Per Unit', 'Highest', 'Estimated Volume',\n",
      "       'Appraised Value Per Unit', 'Acres', 'Length(days)', 'Received',\n",
      "       'Value', 'Volume', 'acc_bidders', 'Cords', 'MBF', '2004', '2005',\n",
      "       '2006', '2007', '2008', '2009', '2010', '2011', '2012', '2013',\n",
      "       'const*MBF', 'Appraised Value Per Unit*MBF', 'pot_bidders*MBF',\n",
      "       'Highest*MBF', 'acc_bidders*MBF', 'const*Cords',\n",
      "       'Appraised Value Per Unit*Cords', 'pot_bidders*Cords', 'Highest*Cords',\n",
      "       'acc_bidders*Cords', 'Estimated Volume*Appraised Value Per Unit'],\n",
      "      dtype='object')\n"
     ]
    }
   ],
   "source": [
    "\n",
    "plt.hist(mich_bids['Bid Per Unit'][mich_bids['Bid Per Unit']!=0],bins=20, range=(0,400))\n",
    "plt.xlabel('Bid per Unit')\n",
    "plt.ylabel('Frequency')\n",
    "plt.savefig('bids_hist.png')\n",
    "plt.show()\n",
    "\n",
    "print(mich_bids.columns)"
   ]
  },
  {
   "cell_type": "code",
   "execution_count": 43,
   "metadata": {
    "scrolled": false
   },
   "outputs": [
    {
     "name": "stdout",
     "output_type": "stream",
     "text": [
      "                            OLS Regression Results                            \n",
      "==============================================================================\n",
      "Dep. Variable:           Bid Per Unit   R-squared:                       0.675\n",
      "Model:                            OLS   Adj. R-squared:                  0.672\n",
      "Method:                 Least Squares   F-statistic:                     267.9\n",
      "Date:                Thu, 20 May 2021   Prob (F-statistic):          3.93e-276\n",
      "Time:                        13:28:49   Log-Likelihood:                -5882.5\n",
      "No. Observations:                1172   AIC:                         1.179e+04\n",
      "Df Residuals:                    1162   BIC:                         1.184e+04\n",
      "Df Model:                           9                                         \n",
      "Covariance Type:            nonrobust                                         \n",
      "==================================================================================================\n",
      "                                     coef    std err          t      P>|t|      [0.025      0.975]\n",
      "--------------------------------------------------------------------------------------------------\n",
      "const*MBF                          4.9718      6.593      0.754      0.451      -7.963      17.907\n",
      "Appraised Value Per Unit*MBF       0.9996      0.043     23.079      0.000       0.915       1.085\n",
      "pot_bidders*MBF                    0.2633      0.358      0.736      0.462      -0.439       0.965\n",
      "Highest*MBF                       15.2691      3.798      4.020      0.000       7.817      22.721\n",
      "acc_bidders*MBF                    1.3660      0.686      1.992      0.047       0.021       2.711\n",
      "const*Cords                      -10.1569      6.545     -1.552      0.121     -22.997       2.684\n",
      "Appraised Value Per Unit*Cords     1.3578      0.261      5.211      0.000       0.847       1.869\n",
      "pot_bidders*Cords                  0.2129      0.349      0.610      0.542      -0.472       0.898\n",
      "Highest*Cords                      4.7736      3.746      1.274      0.203      -2.575      12.122\n",
      "acc_bidders*Cords                  0.9021      0.677      1.333      0.183      -0.425       2.230\n",
      "==============================================================================\n",
      "Omnibus:                     1862.545   Durbin-Watson:                   1.220\n",
      "Prob(Omnibus):                  0.000   Jarque-Bera (JB):          1033428.327\n",
      "Skew:                           9.690   Prob(JB):                         0.00\n",
      "Kurtosis:                     147.176   Cond. No.                         429.\n",
      "==============================================================================\n",
      "\n",
      "Warnings:\n",
      "[1] Standard Errors assume that the covariance matrix of the errors is correctly specified.\n",
      "\\begin{center}\n",
      "\\begin{tabular}{lclc}\n",
      "\\toprule\n",
      "\\textbf{Dep. Variable:}                 &   Bid Per Unit   & \\textbf{  R-squared:         } &      0.675   \\\\\n",
      "\\textbf{Model:}                         &       OLS        & \\textbf{  Adj. R-squared:    } &      0.672   \\\\\n",
      "\\textbf{Method:}                        &  Least Squares   & \\textbf{  F-statistic:       } &      267.9   \\\\\n",
      "\\textbf{Date:}                          & Thu, 20 May 2021 & \\textbf{  Prob (F-statistic):} &  3.93e-276   \\\\\n",
      "\\textbf{Time:}                          &     13:28:49     & \\textbf{  Log-Likelihood:    } &    -5882.5   \\\\\n",
      "\\textbf{No. Observations:}              &        1172      & \\textbf{  AIC:               } &  1.179e+04   \\\\\n",
      "\\textbf{Df Residuals:}                  &        1162      & \\textbf{  BIC:               } &  1.184e+04   \\\\\n",
      "\\textbf{Df Model:}                      &           9      & \\textbf{                     } &              \\\\\n",
      "\\bottomrule\n",
      "\\end{tabular}\n",
      "\\begin{tabular}{lcccccc}\n",
      "                                        & \\textbf{coef} & \\textbf{std err} & \\textbf{t} & \\textbf{P$> |$t$|$} & \\textbf{[0.025} & \\textbf{0.975]}  \\\\\n",
      "\\midrule\n",
      "\\textbf{const*MBF}                      &       4.9718  &        6.593     &     0.754  &         0.451        &       -7.963    &       17.907     \\\\\n",
      "\\textbf{Appraised Value Per Unit*MBF}   &       0.9996  &        0.043     &    23.079  &         0.000        &        0.915    &        1.085     \\\\\n",
      "\\textbf{pot\\_bidders*MBF}               &       0.2633  &        0.358     &     0.736  &         0.462        &       -0.439    &        0.965     \\\\\n",
      "\\textbf{Highest*MBF}                    &      15.2691  &        3.798     &     4.020  &         0.000        &        7.817    &       22.721     \\\\\n",
      "\\textbf{acc\\_bidders*MBF}               &       1.3660  &        0.686     &     1.992  &         0.047        &        0.021    &        2.711     \\\\\n",
      "\\textbf{const*Cords}                    &     -10.1569  &        6.545     &    -1.552  &         0.121        &      -22.997    &        2.684     \\\\\n",
      "\\textbf{Appraised Value Per Unit*Cords} &       1.3578  &        0.261     &     5.211  &         0.000        &        0.847    &        1.869     \\\\\n",
      "\\textbf{pot\\_bidders*Cords}             &       0.2129  &        0.349     &     0.610  &         0.542        &       -0.472    &        0.898     \\\\\n",
      "\\textbf{Highest*Cords}                  &       4.7736  &        3.746     &     1.274  &         0.203        &       -2.575    &       12.122     \\\\\n",
      "\\textbf{acc\\_bidders*Cords}             &       0.9021  &        0.677     &     1.333  &         0.183        &       -0.425    &        2.230     \\\\\n",
      "\\bottomrule\n",
      "\\end{tabular}\n",
      "\\begin{tabular}{lclc}\n",
      "\\textbf{Omnibus:}       & 1862.545 & \\textbf{  Durbin-Watson:     } &      1.220   \\\\\n",
      "\\textbf{Prob(Omnibus):} &   0.000  & \\textbf{  Jarque-Bera (JB):  } & 1033428.327  \\\\\n",
      "\\textbf{Skew:}          &   9.690  & \\textbf{  Prob(JB):          } &       0.00   \\\\\n",
      "\\textbf{Kurtosis:}      & 147.176  & \\textbf{  Cond. No.          } &       429.   \\\\\n",
      "\\bottomrule\n",
      "\\end{tabular}\n",
      "%\\caption{OLS Regression Results}\n",
      "\\end{center}\n",
      "\n",
      "Warnings: \\newline\n",
      " [1] Standard Errors assume that the covariance matrix of the errors is correctly specified.\n"
     ]
    }
   ],
   "source": [
    "# Fit the model with ols = True\n",
    "x_names_raw = ['const', 'Estimated Volume', 'Appraised Value Per Unit']\n",
    "x_names = x_names_cov #(x_names_raw + unit_dummies_name[1:] )  #+ ['Estimated Volume*Appraised Value Per Unit']  \n",
    "          #+ year_dummies_name[1:]) #\n",
    "\n",
    "#different datasets\n",
    "mich_bids_nozeros = mich_bids[mich_bids['Bid Per Unit']!=0]\n",
    "mich_bids_cords = mich_bids[mich_bids['Units']!='Acres']\n",
    "mich_bids_cordsnozeros = mich_bids[ (mich_bids['Units']!='Acres') & (mich_bids['Bid Per Unit']!=0) ]\n",
    "\n",
    "#setup x/y for missing data models\n",
    "x = mich_bids_cordsnozeros[x_names ].copy()\n",
    "y = mich_bids_cordsnozeros['Bid Per Unit']\n",
    "\n",
    "ols_model = sm.OLS(y,x).fit()\n",
    "print(ols_model.summary())\n",
    "print(ols_model.summary().as_latex())\n",
    "\n",
    "#setup x/y for missing data models\n",
    "x = mich_bids_cords[x_names ].copy()\n",
    "y = mich_bids_cords['Bid Per Unit']\n",
    "\n",
    "# seems like year fixed effects are not predictive\n",
    "# also seems like estimated volume doesn't matter\n",
    "# seems like apraised value is the only thing\n",
    "# only like 13 observations with acres"
   ]
  },
  {
   "cell_type": "code",
   "execution_count": 44,
   "metadata": {},
   "outputs": [
    {
     "name": "stdout",
     "output_type": "stream",
     "text": [
      "Optimization terminated successfully.\n",
      "         Current function value: 2.000345\n",
      "         Iterations: 323\n",
      "         Function evaluations: 508\n",
      "                                    OLS CC                                    \n",
      "==============================================================================\n",
      "Dep. Variable:           Bid Per Unit   Log-Likelihood:                -6825.2\n",
      "Model:                          Tobit   AIC:                         1.367e+04\n",
      "Method:            Maximum Likelihood   BIC:                         1.373e+04\n",
      "Date:                Thu, 20 May 2021                                         \n",
      "Time:                        13:28:50                                         \n",
      "No. Observations:                3412                                         \n",
      "Df Residuals:                    3402                                         \n",
      "Df Model:                           9                                         \n",
      "==================================================================================================\n",
      "                                     coef    std err          z      P>|z|      [0.025      0.975]\n",
      "--------------------------------------------------------------------------------------------------\n",
      "const*MBF                          4.9718      6.565      0.757      0.449      -7.895      17.838\n",
      "Appraised Value Per Unit*MBF       0.9996      0.043     23.178      0.000       0.915       1.084\n",
      "pot_bidders*MBF                    0.2633      0.356      0.739      0.460      -0.435       0.961\n",
      "Highest*MBF                       15.2691      3.782      4.038      0.000       7.857      22.681\n",
      "acc_bidders*MBF                    1.3660      0.683      2.001      0.045       0.028       2.704\n",
      "const*Cords                      -10.1569      6.517     -1.559      0.119     -22.929       2.615\n",
      "Appraised Value Per Unit*Cords     1.3578      0.259      5.233      0.000       0.849       1.866\n",
      "pot_bidders*Cords                  0.2129      0.348      0.612      0.540      -0.469       0.894\n",
      "Highest*Cords                      4.7736      3.730      1.280      0.201      -2.536      12.083\n",
      "acc_bidders*Cords                  0.9021      0.674      1.339      0.181      -0.418       2.223\n",
      "var                             1340.2036     55.363     24.207      0.000    1231.694    1448.714\n",
      "==================================================================================================\n",
      "\n",
      "\n",
      "\\begin{center}\n",
      "\\begin{tabular}{lclc}\n",
      "\\toprule\n",
      "\\textbf{Dep. Variable:}                 &    Bid Per Unit    & \\textbf{  Log-Likelihood:    } &   -6825.2   \\\\\n",
      "\\textbf{Model:}                         &       Tobit        & \\textbf{  AIC:               } & 1.367e+04   \\\\\n",
      "\\textbf{Method:}                        & Maximum Likelihood & \\textbf{  BIC:               } & 1.373e+04   \\\\\n",
      "\\textbf{Date:}                          &  Thu, 20 May 2021  & \\textbf{                     } &             \\\\\n",
      "\\textbf{Time:}                          &      13:28:50      & \\textbf{                     } &             \\\\\n",
      "\\textbf{No. Observations:}              &         3412       & \\textbf{                     } &             \\\\\n",
      "\\textbf{Df Residuals:}                  &         3402       & \\textbf{                     } &             \\\\\n",
      "\\bottomrule\n",
      "\\end{tabular}\n",
      "\\begin{tabular}{lcccccc}\n",
      "                                        & \\textbf{coef} & \\textbf{std err} & \\textbf{z} & \\textbf{P$> |$z$|$} & \\textbf{[0.025} & \\textbf{0.975]}  \\\\\n",
      "\\midrule\n",
      "\\textbf{const*MBF}                      &       4.9718  &        6.565     &     0.757  &         0.449        &       -7.895    &       17.838     \\\\\n",
      "\\textbf{Appraised Value Per Unit*MBF}   &       0.9996  &        0.043     &    23.178  &         0.000        &        0.915    &        1.084     \\\\\n",
      "\\textbf{pot\\_bidders*MBF}               &       0.2633  &        0.356     &     0.739  &         0.460        &       -0.435    &        0.961     \\\\\n",
      "\\textbf{Highest*MBF}                    &      15.2691  &        3.782     &     4.038  &         0.000        &        7.857    &       22.681     \\\\\n",
      "\\textbf{acc\\_bidders*MBF}               &       1.3660  &        0.683     &     2.001  &         0.045        &        0.028    &        2.704     \\\\\n",
      "\\textbf{const*Cords}                    &     -10.1569  &        6.517     &    -1.559  &         0.119        &      -22.929    &        2.615     \\\\\n",
      "\\textbf{Appraised Value Per Unit*Cords} &       1.3578  &        0.259     &     5.233  &         0.000        &        0.849    &        1.866     \\\\\n",
      "\\textbf{pot\\_bidders*Cords}             &       0.2129  &        0.348     &     0.612  &         0.540        &       -0.469    &        0.894     \\\\\n",
      "\\textbf{Highest*Cords}                  &       4.7736  &        3.730     &     1.280  &         0.201        &       -2.536    &       12.083     \\\\\n",
      "\\textbf{acc\\_bidders*Cords}             &       0.9021  &        0.674     &     1.339  &         0.181        &       -0.418    &        2.223     \\\\\n",
      "\\textbf{var}                            &    1340.2036  &       55.363     &    24.207  &         0.000        &     1231.694    &     1448.714     \\\\\n",
      "\\bottomrule\n",
      "\\end{tabular}\n",
      "%\\caption{OLS CC}\n",
      "\\end{center}\n"
     ]
    }
   ],
   "source": [
    "tobit_model = selection_tests.Tobit(y,x, cc=True).fit()\n",
    "print(tobit_model.summary(title='OLS CC'))\n",
    "print('\\n')\n",
    "print(tobit_model.summary(title='OLS CC').as_latex())"
   ]
  },
  {
   "cell_type": "code",
   "execution_count": 45,
   "metadata": {},
   "outputs": [
    {
     "name": "stdout",
     "output_type": "stream",
     "text": [
      "Warning: Maximum number of iterations has been exceeded.\n",
      "                                Tobit Results                                 \n",
      "==============================================================================\n",
      "Dep. Variable:           Bid Per Unit   Log-Likelihood:                -8018.0\n",
      "Model:                          Tobit   AIC:                         1.606e+04\n",
      "Method:            Maximum Likelihood   BIC:                         1.612e+04\n",
      "Date:                Thu, 20 May 2021                                         \n",
      "Time:                        13:28:51                                         \n",
      "No. Observations:                3412                                         \n",
      "Df Residuals:                    3402                                         \n",
      "Df Model:                           9                                         \n",
      "==================================================================================================\n",
      "                                     coef    std err          z      P>|z|      [0.025      0.975]\n",
      "--------------------------------------------------------------------------------------------------\n",
      "const*MBF                        -24.6359     10.635     -2.316      0.021     -45.480      -3.792\n",
      "Appraised Value Per Unit*MBF      -0.0050      0.076     -0.067      0.947      -0.153       0.143\n",
      "pot_bidders*MBF                   -1.8549      0.554     -3.350      0.001      -2.940      -0.770\n",
      "Highest*MBF                      173.1854      8.724     19.851      0.000     156.087     190.284\n",
      "acc_bidders*MBF                    5.0865      1.168      4.356      0.000       2.798       7.375\n",
      "const*Cords                        4.7618     11.029      0.432      0.666     -16.855      26.379\n",
      "Appraised Value Per Unit*Cords    -1.9100      0.452     -4.227      0.000      -2.796      -1.024\n",
      "pot_bidders*Cords                 -1.8514      0.557     -3.324      0.001      -2.943      -0.760\n",
      "Highest*Cords                     -2.2220      8.673     -0.256      0.798     -19.221      14.777\n",
      "acc_bidders*Cords                 -0.2752      1.173     -0.235      0.815      -2.574       2.024\n",
      "var                             7599.6060    494.314     15.374      0.000    6630.768    8568.444\n",
      "==================================================================================================\n",
      "\n",
      "\n",
      "\\begin{center}\n",
      "\\begin{tabular}{lclc}\n",
      "\\toprule\n",
      "\\textbf{Dep. Variable:}                 &    Bid Per Unit    & \\textbf{  Log-Likelihood:    } &   -8018.0   \\\\\n",
      "\\textbf{Model:}                         &       Tobit        & \\textbf{  AIC:               } & 1.606e+04   \\\\\n",
      "\\textbf{Method:}                        & Maximum Likelihood & \\textbf{  BIC:               } & 1.612e+04   \\\\\n",
      "\\textbf{Date:}                          &  Thu, 20 May 2021  & \\textbf{                     } &             \\\\\n",
      "\\textbf{Time:}                          &      13:28:51      & \\textbf{                     } &             \\\\\n",
      "\\textbf{No. Observations:}              &         3412       & \\textbf{                     } &             \\\\\n",
      "\\textbf{Df Residuals:}                  &         3402       & \\textbf{                     } &             \\\\\n",
      "\\bottomrule\n",
      "\\end{tabular}\n",
      "\\begin{tabular}{lcccccc}\n",
      "                                        & \\textbf{coef} & \\textbf{std err} & \\textbf{z} & \\textbf{P$> |$z$|$} & \\textbf{[0.025} & \\textbf{0.975]}  \\\\\n",
      "\\midrule\n",
      "\\textbf{const*MBF}                      &     -24.6359  &       10.635     &    -2.316  &         0.021        &      -45.480    &       -3.792     \\\\\n",
      "\\textbf{Appraised Value Per Unit*MBF}   &      -0.0050  &        0.076     &    -0.067  &         0.947        &       -0.153    &        0.143     \\\\\n",
      "\\textbf{pot\\_bidders*MBF}               &      -1.8549  &        0.554     &    -3.350  &         0.001        &       -2.940    &       -0.770     \\\\\n",
      "\\textbf{Highest*MBF}                    &     173.1854  &        8.724     &    19.851  &         0.000        &      156.087    &      190.284     \\\\\n",
      "\\textbf{acc\\_bidders*MBF}               &       5.0865  &        1.168     &     4.356  &         0.000        &        2.798    &        7.375     \\\\\n",
      "\\textbf{const*Cords}                    &       4.7618  &       11.029     &     0.432  &         0.666        &      -16.855    &       26.379     \\\\\n",
      "\\textbf{Appraised Value Per Unit*Cords} &      -1.9100  &        0.452     &    -4.227  &         0.000        &       -2.796    &       -1.024     \\\\\n",
      "\\textbf{pot\\_bidders*Cords}             &      -1.8514  &        0.557     &    -3.324  &         0.001        &       -2.943    &       -0.760     \\\\\n",
      "\\textbf{Highest*Cords}                  &      -2.2220  &        8.673     &    -0.256  &         0.798        &      -19.221    &       14.777     \\\\\n",
      "\\textbf{acc\\_bidders*Cords}             &      -0.2752  &        1.173     &    -0.235  &         0.815        &       -2.574    &        2.024     \\\\\n",
      "\\textbf{var}                            &    7599.6060  &      494.314     &    15.374  &         0.000        &     6630.768    &     8568.444     \\\\\n",
      "\\bottomrule\n",
      "\\end{tabular}\n",
      "%\\caption{Tobit Results}\n",
      "\\end{center}\n"
     ]
    },
    {
     "name": "stderr",
     "output_type": "stream",
     "text": [
      "/home/erichschulman/anaconda3/lib/python3.7/site-packages/statsmodels/base/model.py:512: ConvergenceWarning: Maximum Likelihood optimization failed to converge. Check mle_retvals\n",
      "  \"Check mle_retvals\", ConvergenceWarning)\n"
     ]
    }
   ],
   "source": [
    "# Fit the model with ols = False\n",
    "tobit_model = selection_tests.Tobit(y,x).fit()\n",
    "\n",
    "print(tobit_model.summary())\n",
    "print('\\n')\n",
    "print(tobit_model.summary().as_latex())"
   ]
  },
  {
   "cell_type": "code",
   "execution_count": 46,
   "metadata": {},
   "outputs": [
    {
     "name": "stderr",
     "output_type": "stream",
     "text": [
      "/home/erichschulman/anaconda3/lib/python3.7/site-packages/statsmodels/base/model.py:492: HessianInversionWarning: Inverting hessian failed, no bse or cov_params available\n",
      "  'available', HessianInversionWarning)\n",
      "/home/erichschulman/anaconda3/lib/python3.7/site-packages/statsmodels/base/model.py:512: ConvergenceWarning: Maximum Likelihood optimization failed to converge. Check mle_retvals\n",
      "  \"Check mle_retvals\", ConvergenceWarning)\n"
     ]
    },
    {
     "name": "stdout",
     "output_type": "stream",
     "text": [
      "regular: test, llr, omega ----\n",
      "-7.1219646574254565 -1213.5593232252827 2.917136059173132\n",
      "---- \n"
     ]
    },
    {
     "data": {
      "text/plain": [
       "(2, -7.1219646574254565)"
      ]
     },
     "execution_count": 46,
     "metadata": {},
     "output_type": "execute_result"
    }
   ],
   "source": [
    "# Fit the regular test model\n",
    "regular_test_model = selection_tests.regular_test(y,x,selection_tests.setup_test)\n",
    "regular_test_model"
   ]
  },
  {
   "cell_type": "code",
   "execution_count": 47,
   "metadata": {},
   "outputs": [
    {
     "name": "stderr",
     "output_type": "stream",
     "text": [
      "/home/erichschulman/anaconda3/lib/python3.7/site-packages/statsmodels/base/model.py:492: HessianInversionWarning: Inverting hessian failed, no bse or cov_params available\n",
      "  'available', HessianInversionWarning)\n",
      "/home/erichschulman/anaconda3/lib/python3.7/site-packages/statsmodels/base/model.py:512: ConvergenceWarning: Maximum Likelihood optimization failed to converge. Check mle_retvals\n",
      "  \"Check mle_retvals\", ConvergenceWarning)\n"
     ]
    },
    {
     "name": "stdout",
     "output_type": "stream",
     "text": [
      "V ----\n",
      "(33.03136142173574+1.3505047098617301e-20j)\n",
      "----\n",
      "---- bootstrap: llr, omega ----\n",
      "(-1180.527961803547+1.3505047098617301e-20j) (170.39670675141713+0j)\n",
      "----\n"
     ]
    },
    {
     "data": {
      "text/plain": [
       "(2,\n",
       " (-25.30750591631462+2.476455426354445e-22j),\n",
       " (-2.8288014481144828+4.8485540096092306e-23j))"
      ]
     },
     "execution_count": 47,
     "metadata": {},
     "output_type": "execute_result"
    }
   ],
   "source": [
    "# Fit the bootstrap test model\n",
    "bootstrap_test_model = selection_tests.bootstrap_test(y,x,selection_tests.setup_test, trials=100)\n",
    "bootstrap_test_model"
   ]
  },
  {
   "cell_type": "code",
   "execution_count": 48,
   "metadata": {},
   "outputs": [
    {
     "name": "stderr",
     "output_type": "stream",
     "text": [
      "/home/erichschulman/anaconda3/lib/python3.7/site-packages/statsmodels/base/model.py:492: HessianInversionWarning: Inverting hessian failed, no bse or cov_params available\n",
      "  'available', HessianInversionWarning)\n",
      "/home/erichschulman/anaconda3/lib/python3.7/site-packages/statsmodels/base/model.py:512: ConvergenceWarning: Maximum Likelihood optimization failed to converge. Check mle_retvals\n",
      "  \"Check mle_retvals\", ConvergenceWarning)\n"
     ]
    },
    {
     "name": "stdout",
     "output_type": "stream",
     "text": [
      "V ----\n",
      "(33.03136142173574+1.3505047098617301e-20j)\n",
      "----\n",
      "---- bootstrap: llr, omega ----\n",
      "(-1180.527961803547+1.3505047098617301e-20j) (170.39670675141713+0j)\n",
      "----\n"
     ]
    },
    {
     "name": "stderr",
     "output_type": "stream",
     "text": [
      "/home/erichschulman/anaconda3/lib/python3.7/site-packages/statsmodels/base/model.py:492: HessianInversionWarning: Inverting hessian failed, no bse or cov_params available\n",
      "  'available', HessianInversionWarning)\n",
      "/home/erichschulman/anaconda3/lib/python3.7/site-packages/statsmodels/base/model.py:512: ConvergenceWarning: Maximum Likelihood optimization failed to converge. Check mle_retvals\n",
      "  \"Check mle_retvals\", ConvergenceWarning)\n"
     ]
    },
    {
     "name": "stdout",
     "output_type": "stream",
     "text": [
      "regular: test, llr, omega ----\n",
      "-7.1219646574254565 -1213.5593232252827 2.917136059173132\n",
      "---- \n",
      "\\begin{center}\n",
      "\\begin{tabular}{cccc}\n",
      "\\toprule\n",
      "\\textbf{Version} & \\textbf{Result} & \\textbf{Stat} & \\textbf{95 \\% CI} \\\\ \\midrule\n",
      "Bootstrap & H2 & -- & [-26.218, -2.492] \\\\\n",
      "Classical & H2 & -7.122 & [1.959, 1.959] \\\\\n",
      "\\bottomrule\n",
      "\\end{tabular}\n",
      "\\end{center}\n"
     ]
    }
   ],
   "source": [
    "selection_tests.test_table(y,x,selection_tests.setup_test, trials=100)"
   ]
  },
  {
   "cell_type": "code",
   "execution_count": null,
   "metadata": {},
   "outputs": [],
   "source": []
  },
  {
   "cell_type": "code",
   "execution_count": null,
   "metadata": {},
   "outputs": [],
   "source": []
  },
  {
   "cell_type": "code",
   "execution_count": null,
   "metadata": {},
   "outputs": [],
   "source": []
  },
  {
   "cell_type": "code",
   "execution_count": null,
   "metadata": {},
   "outputs": [],
   "source": []
  }
 ],
 "metadata": {
  "kernelspec": {
   "display_name": "Python 3",
   "language": "python",
   "name": "python3"
  },
  "language_info": {
   "codemirror_mode": {
    "name": "ipython",
    "version": 3
   },
   "file_extension": ".py",
   "mimetype": "text/x-python",
   "name": "python",
   "nbconvert_exporter": "python",
   "pygments_lexer": "ipython3",
   "version": "3.7.4"
  }
 },
 "nbformat": 4,
 "nbformat_minor": 4
}
