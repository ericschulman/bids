{
 "cells": [
  {
   "cell_type": "code",
   "execution_count": 3,
   "metadata": {},
   "outputs": [
    {
     "name": "stdout",
     "output_type": "stream",
     "text": [
      "The autoreload extension is already loaded. To reload it, use:\n",
      "  %reload_ext autoreload\n"
     ]
    }
   ],
   "source": [
    "%load_ext autoreload\n",
    "%autoreload 2\n",
    "\n",
    "import numpy as np\n",
    "import pandas as pd\n",
    "#graphing\n",
    "import matplotlib.pyplot as plt\n",
    "#stats\n",
    "import statsmodels.api as sm\n",
    "from statsmodels.base.model import GenericLikelihoodModel\n",
    "\n",
    "#import testing\n",
    "import sys\n",
    "sys.path.append(\"../\")\n",
    "import selection_tests"
   ]
  },
  {
   "cell_type": "code",
   "execution_count": 9,
   "metadata": {},
   "outputs": [
    {
     "name": "stdout",
     "output_type": "stream",
     "text": [
      "     proj_id co_id  bidamount  sbpref_act  estimate  workdays  sbnum  lbnum  \\\n",
      "0          1   233   725116.0           0  656000.0        74      0      4   \n",
      "15        19    75   787910.0           1  462000.0        90      2      3   \n",
      "16        19   233   827929.0           0  462000.0        90      2      3   \n",
      "23        21   233   569716.0           0  608000.0        90      5      1   \n",
      "26        23    31   107988.0           0  185000.0        20      4      4   \n",
      "...      ...   ...        ...         ...       ...       ...    ...    ...   \n",
      "3069    2212   418   647160.0           0  428450.0        65      3      1   \n",
      "3071    2213   162   689266.0           1  628299.0        45      2      1   \n",
      "3072    2213   418   767215.0           0  628299.0        45      2      1   \n",
      "3073    2214   195   257907.0           0  230055.0        45      0      2   \n",
      "3076    2215   195   424788.0           0  414250.0        45      0      3   \n",
      "\n",
      "      sbplanh  lbplanh  ...  d2  d3  d4  d5  d6  d7  d8  d9  d10  d11  \n",
      "0          10        7  ...   0   0   0   0   0   0   0   0    0    0  \n",
      "15          6        5  ...   0   0   0   0   0   0   0   0    0    0  \n",
      "16          6        5  ...   0   0   0   0   0   0   0   0    0    0  \n",
      "23         12       12  ...   0   0   0   0   0   0   0   0    0    0  \n",
      "26          5        7  ...   0   0   0   0   0   0   0   0    0    0  \n",
      "...       ...      ...  ...  ..  ..  ..  ..  ..  ..  ..  ..  ...  ...  \n",
      "3069        4        6  ...   0   0   0   0   0   0   0   0    0    0  \n",
      "3071        4        5  ...   0   0   0   0   0   0   0   0    0    0  \n",
      "3072        4        5  ...   0   0   0   0   0   0   0   0    0    0  \n",
      "3073        1        4  ...   0   0   0   0   0   0   0   0    0    0  \n",
      "3076        1        4  ...   0   0   0   0   0   0   0   0    0    0  \n",
      "\n",
      "[820 rows x 41 columns]\n"
     ]
    }
   ],
   "source": [
    "cal_bids = pd.read_csv('all_data_0206.csv')\n",
    "\n",
    "cal_bids['co_id']= cal_bids['co_id'].astype(str)\n",
    "cal_bids['proj_id']= cal_bids['proj_id'].astype(str)\n",
    "\n",
    "cal_winners = cal_bids[['co_id','bidamount']].groupby('co_id', as_index=False).count()\n",
    "cal_winners = list(cal_winners.nlargest(15,'bidamount')['co_id'])\n",
    "cal_winners = '|'.join(cal_winners)\n",
    "\n",
    "cal_bids = cal_bids[ cal_bids['co_id'].notnull()] #lower the number of bidder names for now...\n",
    "cal_bids = cal_bids[ cal_bids['co_id'].str.contains(cal_winners)]\n",
    "\n",
    "print(cal_bids)"
   ]
  },
  {
   "cell_type": "code",
   "execution_count": 10,
   "metadata": {},
   "outputs": [
    {
     "name": "stdout",
     "output_type": "stream",
     "text": [
      "               bidamount\n",
      "proj_id co_id           \n",
      "1       233     725116.0\n",
      "        75           NaN\n",
      "        31           NaN\n",
      "        137          NaN\n",
      "        162          NaN\n",
      "...                  ...\n",
      "2215    255          NaN\n",
      "        315          NaN\n",
      "        531          NaN\n",
      "        1175         NaN\n",
      "        12075        NaN\n",
      "\n",
      "[14694 rows x 1 columns]\n"
     ]
    }
   ],
   "source": [
    "import selection_tests\n",
    "\n",
    "cal_panel = selection_tests.create_panel(cal_bids,'proj_id','co_id',\n",
    "                          ['sbpref_act','estimate'],\n",
    "                          ['bidamount'])\n",
    "\n",
    "print(cal_panel)"
   ]
  },
  {
   "cell_type": "code",
   "execution_count": null,
   "metadata": {},
   "outputs": [],
   "source": []
  }
 ],
 "metadata": {
  "kernelspec": {
   "display_name": "Python 3",
   "language": "python",
   "name": "python3"
  },
  "language_info": {
   "codemirror_mode": {
    "name": "ipython",
    "version": 3
   },
   "file_extension": ".py",
   "mimetype": "text/x-python",
   "name": "python",
   "nbconvert_exporter": "python",
   "pygments_lexer": "ipython3",
   "version": "3.7.4"
  }
 },
 "nbformat": 4,
 "nbformat_minor": 2
}
