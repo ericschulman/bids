{
 "cells": [
  {
   "cell_type": "code",
   "execution_count": 2,
   "metadata": {
    "scrolled": true
   },
   "outputs": [
    {
     "name": "stdout",
     "output_type": "stream",
     "text": [
      "        proj_id sum\n",
      "          count max\n",
      "proj_id            \n",
      "1             4   4\n",
      "11            3   4\n",
      "18            8   8\n",
      "19            5   5\n",
      "21            6   6\n",
      "...         ...  ..\n",
      "2211          3   3\n",
      "2212          4   4\n",
      "2213          3   3\n",
      "2214          2   2\n",
      "2215          3   3\n",
      "\n",
      "[705 rows x 2 columns]\n"
     ]
    },
    {
     "data": {
      "text/plain": [
       "[11,\n",
       " 232,\n",
       " 234,\n",
       " 418,\n",
       " 452,\n",
       " 571,\n",
       " 796,\n",
       " 797,\n",
       " 1015,\n",
       " 1111,\n",
       " 2031,\n",
       " 2050,\n",
       " 2054,\n",
       " 2055,\n",
       " 2065,\n",
       " 2071,\n",
       " 2082,\n",
       " 2083,\n",
       " 2086,\n",
       " 2101,\n",
       " 2115,\n",
       " 2124,\n",
       " 2127,\n",
       " 2148,\n",
       " 2152,\n",
       " 2157,\n",
       " 2169,\n",
       " 2184,\n",
       " 2188,\n",
       " 2189]"
      ]
     },
     "execution_count": 2,
     "metadata": {},
     "output_type": "execute_result"
    }
   ],
   "source": [
    "import pandas as pd\n",
    "import numpy as np\n",
    "\n",
    "# Finds missing bids\n",
    "\n",
    "cal_data = pd.read_csv('all_data_0206.csv')\n",
    "\n",
    "# creates a new column with the total number of bids\n",
    "cal_data['sum'] = cal_data['sbnum'] + cal_data['lbnum']\n",
    "\n",
    "# Groups proj_id by count and sum by max\n",
    "proj_bids = cal_data[['proj_id','sum']].groupby(['proj_id']).agg({\n",
    "    'proj_id': ['count'], \n",
    "    'sum': ['max']\n",
    "})\n",
    "\n",
    "# finds the index of proj_id where bids dont match\n",
    "bidder_mismatch_index = str(np.where((proj_bids['proj_id']['count'] != proj_bids['sum']['max']))[0]).replace(\"\\n\",\"\").split(\" \")\n",
    "\n",
    "#cleans up array\n",
    "bidder_mismatch_index = bidder_mismatch_index[2:]\n",
    "bidder_mismatch_index[-1] = bidder_mismatch_index[-1].split(\"]\")[0]\n",
    "\n",
    "#returns proj_id where bids dont match\n",
    "bidder_mismatch = []\n",
    "for i in bidder_mismatch_index:\n",
    "    bidder_mismatch.append(proj_bids.index[int(i)])\n",
    "\n",
    "bidder_mismatch\n",
    "\n"
   ]
  },
  {
   "cell_type": "code",
   "execution_count": null,
   "metadata": {},
   "outputs": [],
   "source": [
    "import pandas as pd\n",
    "import numpy as np\n",
    "\n",
    "# Date Reformating\n",
    "\n",
    "cal_data = pd.read_csv('all_data_0206.csv')\n",
    "\n",
    "def find_year(df):\n",
    "    \n",
    "    return\n",
    "\n",
    "def find_month(df):\n",
    "    \n",
    "    return\n",
    "\n",
    "def reformat(df):\n",
    "    return year + '-' + month \n",
    "\n",
    "cal_data['date'] = c\n",
    "\n",
    "\n",
    "\n"
   ]
  },
  {
   "cell_type": "code",
   "execution_count": null,
   "metadata": {},
   "outputs": [],
   "source": []
  },
  {
   "cell_type": "code",
   "execution_count": null,
   "metadata": {},
   "outputs": [],
   "source": []
  }
 ],
 "metadata": {
  "kernelspec": {
   "display_name": "Python 3",
   "language": "python",
   "name": "python3"
  },
  "language_info": {
   "codemirror_mode": {
    "name": "ipython",
    "version": 3
   },
   "file_extension": ".py",
   "mimetype": "text/x-python",
   "name": "python",
   "nbconvert_exporter": "python",
   "pygments_lexer": "ipython3",
   "version": "3.8.5"
  }
 },
 "nbformat": 4,
 "nbformat_minor": 4
}
