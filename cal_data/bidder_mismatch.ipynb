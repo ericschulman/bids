{
 "cells": [
  {
   "cell_type": "code",
   "execution_count": 95,
   "metadata": {
    "scrolled": true
   },
   "outputs": [
    {
     "data": {
      "text/plain": [
       "[11,\n",
       " 232,\n",
       " 234,\n",
       " 418,\n",
       " 452,\n",
       " 571,\n",
       " 796,\n",
       " 797,\n",
       " 1015,\n",
       " 1111,\n",
       " 2031,\n",
       " 2050,\n",
       " 2054,\n",
       " 2055,\n",
       " 2065,\n",
       " 2071,\n",
       " 2082,\n",
       " 2083,\n",
       " 2086,\n",
       " 2101,\n",
       " 2115,\n",
       " 2124,\n",
       " 2127,\n",
       " 2148,\n",
       " 2152,\n",
       " 2157,\n",
       " 2169,\n",
       " 2184,\n",
       " 2188,\n",
       " 2189]"
      ]
     },
     "execution_count": 95,
     "metadata": {},
     "output_type": "execute_result"
    }
   ],
   "source": [
    "import pandas as pd\n",
    "import numpy as np\n",
    "\n",
    "cal_data = pd.read_csv('all_data_0206.csv')\n",
    "\n",
    "cal_data['sum'] = cal_data['sbnum'] + cal_data['lbnum']\n",
    "\n",
    "proj_bids = cal_data[['proj_id','sum']].groupby(['proj_id']).agg({\n",
    "    'proj_id': ['count'], \n",
    "    'sum': ['max']\n",
    "})\n",
    "\n",
    "bidder_mismatch_index = str(np.where((proj_bids['proj_id']['count'] != proj_bids['sum']['max']))[0]).replace(\"\\n\",\"\").split(\" \")\n",
    "bidder_mismatch_index = bidder_mismatch_index[2:]\n",
    "bidder_mismatch_index[-1] = bidder_mismatch_index[-1].split(\"]\")[0]\n",
    "\n",
    "bidder_mismatch = []\n",
    "for i in bidder_mismatch_index:\n",
    "    bidder_mismatch.append(proj_bids.index[int(i)])\n",
    "\n",
    "bidder_mismatch\n",
    "\n"
   ]
  },
  {
   "cell_type": "code",
   "execution_count": null,
   "metadata": {},
   "outputs": [],
   "source": []
  },
  {
   "cell_type": "code",
   "execution_count": null,
   "metadata": {},
   "outputs": [],
   "source": []
  }
 ],
 "metadata": {
  "kernelspec": {
   "display_name": "Python 3",
   "language": "python",
   "name": "python3"
  },
  "language_info": {
   "codemirror_mode": {
    "name": "ipython",
    "version": 3
   },
   "file_extension": ".py",
   "mimetype": "text/x-python",
   "name": "python",
   "nbconvert_exporter": "python",
   "pygments_lexer": "ipython3",
   "version": "3.8.5"
  }
 },
 "nbformat": 4,
 "nbformat_minor": 4
}
