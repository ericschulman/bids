{
 "cells": [
  {
   "cell_type": "code",
   "execution_count": 4,
   "metadata": {
    "scrolled": true
   },
   "outputs": [
    {
     "name": "stdout",
     "output_type": "stream",
     "text": [
      "[11, 232, 234, 418, 452, 571, 796, 797, 1015, 1111, 2031, 2050, 2054, 2055, 2065, 2071, 2082, 2083, 2086, 2101, 2115, 2124, 2127, 2148, 2152, 2157, 2169, 2184, 2188, 2189]\n"
     ]
    }
   ],
   "source": [
    "import pandas as pd\n",
    "import numpy as np\n",
    "\n",
    "cal_data = pd.read_csv('all_data_0206.csv')\n",
    "\n",
    "cal_data['sum'] = cal_data['sbnum'] + cal_data['lbnum']\n",
    "\n",
    "proj_bids = cal_data[['proj_id','sum']].groupby(['proj_id']).agg({\n",
    "    'proj_id': ['count'], \n",
    "    'sum': ['max']\n",
    "})\n",
    "\n",
    "bidder_mismatch_index = str(np.where((proj_bids['proj_id']['count'] != proj_bids['sum']['max']))[0]).replace(\"\\n\",\"\").split(\" \")\n",
    "bidder_mismatch_index = bidder_mismatch_index[2:]\n",
    "bidder_mismatch_index[-1] = bidder_mismatch_index[-1].split(\"]\")[0]\n",
    "\n",
    "bidder_mismatch = []\n",
    "for i in bidder_mismatch_index:\n",
    "    bidder_mismatch.append(proj_bids.index[int(i)])\n",
    "\n",
    "print(bidder_mismatch)\n",
    "\n"
   ]
  },
  {
   "cell_type": "code",
   "execution_count": 6,
   "metadata": {},
   "outputs": [
    {
     "name": "stdout",
     "output_type": "stream",
     "text": [
      "        proj_id sum\n",
      "          count max\n",
      "proj_id            \n",
      "1             4   4\n",
      "11            3   4\n",
      "18            8   8\n",
      "19            5   5\n",
      "21            6   6\n",
      "...         ...  ..\n",
      "2211          3   3\n",
      "2212          4   4\n",
      "2213          3   3\n",
      "2214          2   2\n",
      "2215          3   3\n",
      "\n",
      "[705 rows x 2 columns]\n"
     ]
    }
   ],
   "source": [
    "print(proj_bids)"
   ]
  },
  {
   "cell_type": "code",
   "execution_count": null,
   "metadata": {},
   "outputs": [],
   "source": []
  }
 ],
 "metadata": {
  "kernelspec": {
   "display_name": "Python 3",
   "language": "python",
   "name": "python3"
  },
  "language_info": {
   "codemirror_mode": {
    "name": "ipython",
    "version": 3
   },
   "file_extension": ".py",
   "mimetype": "text/x-python",
   "name": "python",
   "nbconvert_exporter": "python",
   "pygments_lexer": "ipython3",
   "version": "3.7.4"
  }
 },
 "nbformat": 4,
 "nbformat_minor": 4
}
