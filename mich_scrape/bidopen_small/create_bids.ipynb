{
 "cells": [
  {
   "cell_type": "code",
   "execution_count": 5,
   "metadata": {},
   "outputs": [],
   "source": [
    "import os\n",
    "import pandas as pd"
   ]
  },
  {
   "cell_type": "code",
   "execution_count": 6,
   "metadata": {
    "scrolled": false
   },
   "outputs": [],
   "source": [
    "#get a list of the filenames\n",
    "cwd = os.getcwd()\n",
    "filelist = []\n",
    "for root, directories, filenames in os.walk(cwd):\n",
    "    for filename in filenames:\n",
    "        if '.CSV' in filename:\n",
    "            path = str(os.path.join(root, filename))\n",
    "            filelist = filelist + [path]"
   ]
  },
  {
   "cell_type": "code",
   "execution_count": 7,
   "metadata": {},
   "outputs": [
    {
     "name": "stdout",
     "output_type": "stream",
     "text": [
      "15\n",
      "Index(['Bid Open Location', 'Bid Open Date', 'Bid Open Time', 'Sale Name',\n",
      "       'Sale #', 'No Bid Sale', 'Bid/Non-Bid Species', 'Species', 'Product',\n",
      "       'Units', 'Estimated Volume', 'Appraised Value Per Unit', 'Bidder Name',\n",
      "       'Bid Per Unit', 'Highest'],\n",
      "      dtype='object')\n"
     ]
    }
   ],
   "source": [
    "print(len(pd.read_csv(filelist[0]).columns))\n",
    "print((pd.read_csv(filelist[0]).columns))"
   ]
  },
  {
   "cell_type": "code",
   "execution_count": 8,
   "metadata": {},
   "outputs": [],
   "source": [
    "#read the files and then add them into a master file\n",
    "result = pd.read_csv(filelist[0])\n",
    "\n",
    "for file in filelist[1:]:\n",
    "    current = pd.read_csv(file)\n",
    "    result = result.append(current,ignore_index=True,sort=True)"
   ]
  },
  {
   "cell_type": "code",
   "execution_count": 10,
   "metadata": {},
   "outputs": [],
   "source": [
    "result_final = result.loc[:, ~result.columns.str.contains('Unnamed: ')]\n",
    "result_final = result_final.loc[:, ~result_final.columns.str.contains('two')]\n",
    "result_final = result_final.loc[:, ~result_final.columns.str.contains('6')]\n",
    "result_final.to_csv('mich_bids.csv')"
   ]
  },
  {
   "cell_type": "code",
   "execution_count": null,
   "metadata": {},
   "outputs": [],
   "source": []
  }
 ],
 "metadata": {
  "kernelspec": {
   "display_name": "Python 3",
   "language": "python",
   "name": "python3"
  },
  "language_info": {
   "codemirror_mode": {
    "name": "ipython",
    "version": 3
   },
   "file_extension": ".py",
   "mimetype": "text/x-python",
   "name": "python",
   "nbconvert_exporter": "python",
   "pygments_lexer": "ipython3",
   "version": "3.7.4"
  }
 },
 "nbformat": 4,
 "nbformat_minor": 2
}
